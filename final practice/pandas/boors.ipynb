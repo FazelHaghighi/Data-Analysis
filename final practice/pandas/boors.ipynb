{
 "cells": [
  {
   "attachments": {},
   "cell_type": "markdown",
   "metadata": {},
   "source": [
    "<h1 align=center style=\"line-height:200%;font-family:vazir;color:#0099cc\">\n",
    "<font face=\"vazir\" color=\"#0099cc\">\n",
    "بورس ایران\n",
    "\n",
    "</font>\n",
    "</h1>\n"
   ]
  },
  {
   "attachments": {},
   "cell_type": "markdown",
   "metadata": {},
   "source": [
    "<p dir=rtl style=\"direction: rtl;text-align: right;line-height:200%;font-family:vazir;font-size:medium\">\n",
    "<font face=\"vazir\" size=3>\n",
    "در این سوال قرار است با داده های واقعی بورس ایران به چند مسئله پاسخ دهید.\n",
    "</font>\n",
    "</p>\n"
   ]
  },
  {
   "attachments": {},
   "cell_type": "markdown",
   "metadata": {},
   "source": [
    "<h2 align=right style=\"line-height:200%;font-family:vazir;color:#0099cc\">\n",
    "<font face=\"vazir\" color=\"#0099cc\">\n",
    "قسمت اول\n",
    "<br>\n",
    "محاسبه حداکثر افت سرمایه در بازه سه سال\n",
    "</font>\n",
    "</h2>\n",
    "\n",
    "<p dir=rtl style=\"direction: rtl;text-align: right;line-height:200%;font-family:vazir;font-size:medium\">\n",
    "<font face=\"vazir\" size=3>\n",
    "طبق گفته سایت investopedia تعریف  <a href=\"https://www.investopedia.com/terms/m/maximum-drawdown-mdd.asp\">Maximum DarwDown</a> به صورت زیر است : \n",
    "<br>\n",
    "Maximum DrawDown (MDD) یا همان حداکثر افت سرمایه مقدار حداکثر افت سرمایه از یک قله تا \n",
    "<b>\n",
    "کف بعد از آن\n",
    "</b>\n",
    " قله است قبل از این که قله جدیدی تشکیل شود.\n",
    "<br>\n",
    "حداکثر افت سرمایه نشانگر ریسک نزولی در یک بازه زمانی مشخص است.\n",
    "</font>\n",
    "</p>\n",
    "\n"
   ]
  },
  {
   "attachments": {},
   "cell_type": "markdown",
   "metadata": {},
   "source": [
    "$ MDD = \\frac{Trough Value - Peak Value}{Peak Value} $"
   ]
  },
  {
   "attachments": {},
   "cell_type": "markdown",
   "metadata": {},
   "source": [
    "<p dir=rtl style=\"direction: rtl;text-align: right;line-height:200%;font-family:vazir;font-size:medium\">\n",
    "<font face=\"vazir\" size=3>\n",
    "در این قسمت شما داده های سهام فولاد در بورس ایران را دریافت میکنید و باید میزان حداکثر افت سرمایه را از تاریخ 01-01-2020 تا تاریخ 01-01-2023 را بدست بیاورید و تا دو رقم اعشار رند کنید و در  <code>MDD</code> قرار دهید.\n",
    "<br>\n",
    "خروجی شما باید عددی اعشاری بین صفر و یک با علامت منفی باشد و نوع داده شما باید float باشد.\n",
    "<br>\n",
    "برای محاسه <code>MDD</code> از ستون <code>adjClose</code> استفاده کنید.\n",
    "</font>\n",
    "</p>"
   ]
  },
  {
   "cell_type": "code",
   "execution_count": 1,
   "metadata": {},
   "outputs": [],
   "source": [
    "import pandas as pd\n",
    "import numpy as np"
   ]
  },
  {
   "cell_type": "code",
   "execution_count": 6,
   "metadata": {},
   "outputs": [
    {
     "data": {
      "text/html": [
       "<div>\n",
       "<style scoped>\n",
       "    .dataframe tbody tr th:only-of-type {\n",
       "        vertical-align: middle;\n",
       "    }\n",
       "\n",
       "    .dataframe tbody tr th {\n",
       "        vertical-align: top;\n",
       "    }\n",
       "\n",
       "    .dataframe thead th {\n",
       "        text-align: right;\n",
       "    }\n",
       "</style>\n",
       "<table border=\"1\" class=\"dataframe\">\n",
       "  <thead>\n",
       "    <tr style=\"text-align: right;\">\n",
       "      <th></th>\n",
       "      <th>date</th>\n",
       "      <th>open</th>\n",
       "      <th>high</th>\n",
       "      <th>low</th>\n",
       "      <th>adjClose</th>\n",
       "      <th>value</th>\n",
       "      <th>volume</th>\n",
       "      <th>count</th>\n",
       "      <th>yesterday</th>\n",
       "      <th>close</th>\n",
       "    </tr>\n",
       "  </thead>\n",
       "  <tbody>\n",
       "    <tr>\n",
       "      <th>0</th>\n",
       "      <td>2007-03-11</td>\n",
       "      <td>1900.0</td>\n",
       "      <td>1938.0</td>\n",
       "      <td>1900.0</td>\n",
       "      <td>1900.0</td>\n",
       "      <td>889437216900</td>\n",
       "      <td>468077431</td>\n",
       "      <td>7736</td>\n",
       "      <td>1900.0</td>\n",
       "      <td>1900.0</td>\n",
       "    </tr>\n",
       "    <tr>\n",
       "      <th>1</th>\n",
       "      <td>2007-03-12</td>\n",
       "      <td>1938.0</td>\n",
       "      <td>1938.0</td>\n",
       "      <td>1938.0</td>\n",
       "      <td>1938.0</td>\n",
       "      <td>193879458000</td>\n",
       "      <td>100041000</td>\n",
       "      <td>9214</td>\n",
       "      <td>1900.0</td>\n",
       "      <td>1938.0</td>\n",
       "    </tr>\n",
       "    <tr>\n",
       "      <th>2</th>\n",
       "      <td>2007-03-13</td>\n",
       "      <td>1976.0</td>\n",
       "      <td>1976.0</td>\n",
       "      <td>1915.0</td>\n",
       "      <td>1973.0</td>\n",
       "      <td>249241504527</td>\n",
       "      <td>126270939</td>\n",
       "      <td>5862</td>\n",
       "      <td>1938.0</td>\n",
       "      <td>1973.0</td>\n",
       "    </tr>\n",
       "    <tr>\n",
       "      <th>3</th>\n",
       "      <td>2007-03-14</td>\n",
       "      <td>1934.0</td>\n",
       "      <td>1966.0</td>\n",
       "      <td>1934.0</td>\n",
       "      <td>1934.0</td>\n",
       "      <td>51666379451</td>\n",
       "      <td>26705128</td>\n",
       "      <td>1901</td>\n",
       "      <td>1973.0</td>\n",
       "      <td>1934.0</td>\n",
       "    </tr>\n",
       "    <tr>\n",
       "      <th>4</th>\n",
       "      <td>2007-03-17</td>\n",
       "      <td>1896.0</td>\n",
       "      <td>1927.0</td>\n",
       "      <td>1896.0</td>\n",
       "      <td>1898.0</td>\n",
       "      <td>28239006789</td>\n",
       "      <td>14877283</td>\n",
       "      <td>1514</td>\n",
       "      <td>1934.0</td>\n",
       "      <td>1898.0</td>\n",
       "    </tr>\n",
       "  </tbody>\n",
       "</table>\n",
       "</div>"
      ],
      "text/plain": [
       "         date    open    high     low  adjClose         value     volume  \\\n",
       "0  2007-03-11  1900.0  1938.0  1900.0    1900.0  889437216900  468077431   \n",
       "1  2007-03-12  1938.0  1938.0  1938.0    1938.0  193879458000  100041000   \n",
       "2  2007-03-13  1976.0  1976.0  1915.0    1973.0  249241504527  126270939   \n",
       "3  2007-03-14  1934.0  1966.0  1934.0    1934.0   51666379451   26705128   \n",
       "4  2007-03-17  1896.0  1927.0  1896.0    1898.0   28239006789   14877283   \n",
       "\n",
       "   count  yesterday   close  \n",
       "0   7736     1900.0  1900.0  \n",
       "1   9214     1900.0  1938.0  \n",
       "2   5862     1938.0  1973.0  \n",
       "3   1901     1973.0  1934.0  \n",
       "4   1514     1934.0  1898.0  "
      ]
     },
     "execution_count": 6,
     "metadata": {},
     "output_type": "execute_result"
    }
   ],
   "source": [
    "# read the data\n",
    "foolad_df = pd.read_csv('فولاد.csv')\n",
    "foolad_df.head()"
   ]
  },
  {
   "cell_type": "code",
   "execution_count": 12,
   "metadata": {},
   "outputs": [],
   "source": [
    "# calculate the MDD\n",
    "df = foolad_df[(foolad_df['date'] >= '2020-01-01') & (foolad_df['date'] <= '2023-01-01')]\n",
    "MDD = round((df[\"adjClose\"] - df[\"high\"]) / df[\"adjClose\"], 2)"
   ]
  },
  {
   "attachments": {},
   "cell_type": "markdown",
   "metadata": {},
   "source": [
    "<h2 align=right style=\"line-height:200%;font-family:vazir;color:#0099cc\">\n",
    "<font face=\"vazir\" color=\"#0099cc\">\n",
    "قسمت دوم\n",
    "<br>\n",
    "کندل های حجمی\n",
    "</font>\n",
    "</h2>\n",
    "<p dir=rtl style=\"direction: rtl;text-align: right;line-height:200%;font-family:vazir;font-size:medium\">\n",
    "<font face=\"vazir\" size=3>\n",
    "  کندل های حجمی یا <a href=\"https://towardsdatascience.com/advanced-candlesticks-for-machine-learning-ii-volume-and-dollar-bars-6cda27e3201d\">volume bars</a> \n",
    "آن دسته از کندل هایی هستن که بر اساس حجم هستند.\n",
    "<br>\n",
    "در کندل های زمانی در یک بازه زمانی مشخص ریز معاملات را بررسی میکنند و قیمت شروع کننده رو به عنوان Open Price در نظر میگرند و قیمت آخر را به عنوان Close Price در نظر میگیرن و بالاترین و پایین ترین قیمت را به ترتیب به عنوان High و Low در نظر میگیرند و همچنین مجموع حجم آن روز را به عنوان volume در نظر گرفته میشود.\n",
    "<br>\n",
    "نمونه های کندل های زمانی را در قسمت قبل دیدید که در یک بازه یک روزه ریز معاملات را بررسی کرده اند.\n",
    "<br>\n",
    "در کندل های حجمی نیز شما به همین سبک عمل کرده ولی زمان برای شما مهم نمیباشد بلکه به ازای یک مقدار مشخص حجم که در این سوال برای شما 400000 در نظر گرفته شده است کندل های حجمی را تشکیل میدهیم.\n",
    "<br>\n",
    "در این سوال به شما ریز معاملات یک روز معاملاتی سهام فولاد داده شده است شما باید هر موقع مجموع حجم ریزمعاملات به عدد 400000 رسید یک کندل (یک ردیف در دیتا فریم) تشکیل دهید و تمام پارامتر ها را (Open Price,Close Price,...) باید در نظر بگیرید.\n",
    "<br>\n",
    "5 خط اول خروجی شما باید به شکل زیر باشد.\n",
    "<br>\n",
    "خروجی خود را در <code>volume_bars</code> ذخیر کنید.\n",
    "<br>\n",
    "hint : برای این سوال باید از iteration استفاده کنید.\n",
    "</font>\n",
    "</p>\n"
   ]
  },
  {
   "attachments": {},
   "cell_type": "markdown",
   "metadata": {},
   "source": [
    "|    |   open |   high |   low |   close |   volume |\n",
    "|---:|-------:|-------:|------:|--------:|---------:|\n",
    "|  0 |   6260 |   6260 |  6260 |    6260 |   419476 |\n",
    "|  1 |   6260 |   6260 |  6240 |    6240 |   403936 |\n",
    "|  2 |   6240 |   6240 |  6220 |    6220 |   409206 |\n",
    "|  3 |   6220 |   6240 |  6220 |    6220 |   401274 |\n",
    "|  4 |   6220 |   6230 |  6210 |    6230 |   412543 |"
   ]
  },
  {
   "cell_type": "code",
   "execution_count": 14,
   "metadata": {},
   "outputs": [],
   "source": [
    "# read the data\n",
    "foolad_detailed_df = pd.read_csv('ریزمعاملات_فولاد.csv')"
   ]
  },
  {
   "cell_type": "code",
   "execution_count": 31,
   "metadata": {},
   "outputs": [],
   "source": [
    "# calculate volume bars dataframe\n",
    "volume_bars = pd.DataFrame(columns=[\"open\",\"high\",\"low\",\"close\",\"volume\"])\n",
    "for i in range(len(foolad_detailed_df)):\n",
    "    if foolad_detailed_df.loc[i,'volume'] >= 400000:\n",
    "        volume_bars = volume_bars.append({'open':foolad_detailed_df.loc[i,'open'], 'high':foolad_detailed_df.loc[i,'high'], 'low':foolad_detailed_df.loc[i,'low'], 'close':foolad_detailed_df.loc[i,'close'], 'volume':foolad_detailed_df.loc[i,'volume']})\n",
    "volume_bars.reset_index(drop=True,inplace=True)"
   ]
  },
  {
   "cell_type": "markdown",
   "metadata": {},
   "source": [
    "<h2 align=right style=\"line-height:200%;font-family:vazir;color:#0099cc\">\n",
    "سلول جواب‌ساز\n",
    "</h2>"
   ]
  },
  {
   "cell_type": "code",
   "execution_count": 32,
   "metadata": {},
   "outputs": [
    {
     "name": "stdout",
     "output_type": "stream",
     "text": [
      "File Paths:\n",
      "['MDD', 'volume_bars.csv', 'boors.ipynb']\n"
     ]
    }
   ],
   "source": [
    "import zipfile\n",
    "import joblib\n",
    "\n",
    "joblib.dump(MDD,\"MDD\")\n",
    "volume_bars.to_csv('./volume_bars.csv', index=False)\n",
    "\n",
    "\n",
    "def compress(file_names):\n",
    "    print(\"File Paths:\")\n",
    "    print(file_names)\n",
    "    # Select the compression mode ZIP_DEFLATED for compression\n",
    "    # or zipfile.ZIP_STORED to just store the file\n",
    "    compression = zipfile.ZIP_DEFLATED\n",
    "    # create the zip file first parameter path/name, second mode\n",
    "    with zipfile.ZipFile(\"result.zip\", mode=\"w\") as zf:\n",
    "        for file_name in file_names:\n",
    "            # Add file to the zip file\n",
    "            # first parameter file to zip, second filename in zip\n",
    "            zf.write('./' + file_name, file_name, compress_type=compression)\n",
    "\n",
    "\n",
    "file_names = [\"MDD\" , \"volume_bars.csv\" , \"boors.ipynb\"]\n",
    "compress(file_names)"
   ]
  }
 ],
 "metadata": {
  "kernelspec": {
   "display_name": "Python 3",
   "language": "python",
   "name": "python3"
  },
  "language_info": {
   "codemirror_mode": {
    "name": "ipython",
    "version": 3
   },
   "file_extension": ".py",
   "mimetype": "text/x-python",
   "name": "python",
   "nbconvert_exporter": "python",
   "pygments_lexer": "ipython3",
   "version": "3.10.9"
  },
  "orig_nbformat": 4,
  "vscode": {
   "interpreter": {
    "hash": "e897f0676b185ac58fdef5d15caf12b36f55050acef5c3897f1ea1504ac8e199"
   }
  }
 },
 "nbformat": 4,
 "nbformat_minor": 2
}
