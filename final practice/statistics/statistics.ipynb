{
 "cells": [
  {
   "attachments": {},
   "cell_type": "markdown",
   "metadata": {},
   "source": [
    "\n",
    "<h1 align=center style=\"line-height:200%;font-family:vazir;color:#0099cc\">\n",
    "<font face=\"vazir\" color=\"#0099cc\">\n",
    "سرزمین آمار\n",
    "</font>\n",
    "</h1>\n"
   ]
  },
  {
   "attachments": {},
   "cell_type": "markdown",
   "metadata": {},
   "source": [
    "<p dir=rtl style=\"direction: rtl;text-align: right;line-height:200%;font-family:vazir;font-size:medium\">\n",
    "<font face=\"vazir\" size=3>\n",
    "در این قسمت دو سوال آمار طراحی شده است که باید به آنها پاسخ دهید.\n",
    "<br>\n",
    "زمان پیشنهادی برای حل این قسمت  <b>۱۵ تا ۳۰ دقیقه</b>\n",
    "می‌باشد.\n",
    "<br>\n",
    "لازم به ذکر است این تایم صرفا پیشنهاد می‌باشد و میتوانید زمان خود را در طول آزمون به صورت دلخواه مدیریت نمایید.\n",
    "<br>\n",
    "\n",
    "</font>\n",
    "</p>\n",
    "\n",
    "\n"
   ]
  },
  {
   "attachments": {},
   "cell_type": "markdown",
   "metadata": {},
   "source": [
    "<h2 align=right style=\"line-height:200%;font-family:vazir;color:#0099cc\">\n",
    "<font face=\"vazir\" color=\"#0099cc\">\n",
    "قسمت اول \n",
    "</font>\n",
    "</h2>\n",
    "<p dir=rtl style=\"direction: rtl;text-align: right;line-height:200%;font-family:vazir;font-size:medium\">\n",
    "<font face=\"vazir\" size=3>\n",
    "باقر دیتا آنالیست کوئراست. به او دیتاستی از فروش محصولات چند سال اخیر داده شده است و از او دو سوال آماری پرسیده شده است.\n",
    "به باقر کمک کنید تا تسک‌هایش را به درستی انجام دهد.\n",
    "</font>\n",
    "</p>\n"
   ]
  },
  {
   "attachments": {},
   "cell_type": "markdown",
   "metadata": {},
   "source": [
    "<p dir=rtl style=\"direction: rtl;text-align: right;line-height:200%;font-family:vazir;font-size:medium\">\n",
    "<font face=\"vazir\" size=3>\n",
    "در ابتدا دیتای داده شده را بخوانید و  ستون <code>Total_Price</code> را بدست اورید . توجه داشته باشید که :\n",
    "</font>\n",
    "</p>\n"
   ]
  },
  {
   "attachments": {},
   "cell_type": "markdown",
   "metadata": {},
   "source": [
    "$$ Total\\_Price = {Quantity}\\times{UnitPrice} $$"
   ]
  },
  {
   "cell_type": "code",
   "execution_count": 2,
   "metadata": {},
   "outputs": [],
   "source": [
    "# import libraries\n",
    "import pandas as pd \n",
    "import numpy as np "
   ]
  },
  {
   "cell_type": "code",
   "execution_count": 3,
   "metadata": {},
   "outputs": [],
   "source": [
    "# read data\n",
    "df = pd.read_csv('sample_data.csv')"
   ]
  },
  {
   "cell_type": "code",
   "execution_count": 4,
   "metadata": {},
   "outputs": [],
   "source": [
    "# calculate Total_Price\n",
    "df['Total_Price'] = df['Quantity'] * df['UnitPrice']"
   ]
  },
  {
   "attachments": {},
   "cell_type": "markdown",
   "metadata": {},
   "source": [
    "<p dir=rtl style=\"direction: rtl;text-align: right;line-height:200%;font-family:vazir;font-size:medium\">\n",
    "<font face=\"vazir\" size=3>\n",
    "در این قسمت باید به ترتیب  صدک ‌های ۱۵ ام و ۹۰ ام و چارک سوم ستون <code>Total_Price</code> را محاسبه کنید\n",
    "</font>\n",
    "</p>\n"
   ]
  },
  {
   "cell_type": "code",
   "execution_count": 5,
   "metadata": {},
   "outputs": [],
   "source": [
    "# complete the code\n",
    "p_15 = np.percentile(df['Total_Price'], 15)\n",
    "p_90 = np.percentile(df['Total_Price'], 90)\n",
    "q_3 = np.quantile(df['Total_Price'], 0.75)"
   ]
  },
  {
   "attachments": {},
   "cell_type": "markdown",
   "metadata": {},
   "source": [
    "<h2 align=right style=\"line-height:200%;font-family:vazir;color:#0099cc\">\n",
    "<font face=\"vazir\" color=\"#0099cc\">\n",
    "قسمت دوم \n",
    "</font>\n",
    "</h2>\n",
    "<p dir=rtl style=\"direction: rtl;text-align: right;line-height:200%;font-family:vazir;font-size:medium\">\n",
    "<font face=\"vazir\" size=3>\n",
    "برای سوال دوم از باقر خواسته شده است تا با تفسیر <b>p_value حاصل از آزمون تی</b>  به یکی از کارفرمایان ثابت کند در سطح معنادار  <code>alpha = 0.05</code>، میانگین ستون <code>UnitPrice</code> از 4.5 کمتر نیست.\n",
    "<br>\n",
    "در نتیجه فرض صفر همان ادعای کارفرما می‌باشد (کمتر بودن میانگین ستون مذکور از 4.5)\n",
    "و فرض مخالف این است که میانگین از 4.5 بیشتر می‌باشد\n",
    "<br>\n",
    "در این قسمت از شما میخواهیم مقدار p_value بدست آمده را به همراه نتیجه آزمون گزارش کنید\n",
    "</font>\n",
    "</p>"
   ]
  },
  {
   "cell_type": "code",
   "execution_count": 6,
   "metadata": {},
   "outputs": [],
   "source": [
    "from scipy.stats import ttest_1samp"
   ]
  },
  {
   "attachments": {},
   "cell_type": "markdown",
   "metadata": {},
   "source": [
    "<p dir=rtl style=\"direction: rtl;text-align: right;line-height:200%;font-family:vazir;font-size:medium\">\n",
    "<font face=\"vazir\" size=3>\n",
    "با استفاده از <code>ttest_1samp</code> مقدار p_value را بدست اورده و آنرا در متغیر مربوطه بریزید\n",
    "<br>\n",
    "<b>راهنمایی : با توجه به سوال پارامتر <code>popmean</code> برابر 4.5 می‌باشد\n",
    "<br>\n",
    "آزمون یک طرفه است \n",
    "</font>\n",
    "</p>"
   ]
  },
  {
   "cell_type": "code",
   "execution_count": 24,
   "metadata": {},
   "outputs": [],
   "source": [
    "# complete the code\n",
    "p_value = ttest_1samp(df['UnitPrice'], popmean=4.5)[1]"
   ]
  },
  {
   "attachments": {},
   "cell_type": "markdown",
   "metadata": {},
   "source": [
    "<p dir=rtl style=\"direction: rtl;text-align: right;line-height:200%;font-family:vazir;font-size:medium\">\n",
    "<font face=\"vazir\" size=3>\n",
    "با استفاده از P_value بدست آمده در قسمت قبل، نتیجه آزمون را در سطح معنادار <code>alpha = 0.05</code> گزارش کنید.\n",
    "<br>\n",
    "اگر آزمون فرض رد میشود <code>rejected</code> و اگر نمی‌توان آن را رد کرد مقدار <code>not_rejected</code> را در متغیر <code>null_hypothesis</code> ذخیره کنید.\n",
    "</font>\n",
    "</p>"
   ]
  },
  {
   "cell_type": "code",
   "execution_count": 25,
   "metadata": {},
   "outputs": [],
   "source": [
    "# complete the code\n",
    "if p_value <= 0.05:\n",
    "    null_hypothesis = \"rejected\"\n",
    "else:\n",
    "    null_hypothesis = \"not_rejected\""
   ]
  },
  {
   "cell_type": "code",
   "execution_count": 26,
   "metadata": {},
   "outputs": [
    {
     "name": "stdout",
     "output_type": "stream",
     "text": [
      "File Paths:\n",
      "['answers.npz', 'statistics.ipynb']\n"
     ]
    }
   ],
   "source": [
    "import zipfile\n",
    "\n",
    "np.savez(\"answers.npz\", p_15 = p_15, p_90 = p_90, q_3 = q_3,p_value = p_value, null_hypothesis = null_hypothesis)\n",
    "\n",
    "\n",
    "def compress(file_names):\n",
    "    print(\"File Paths:\")\n",
    "    print(file_names)\n",
    "    # Select the compression mode ZIP_DEFLATED for compression\n",
    "    # or zipfile.ZIP_STORED to just store the file\n",
    "    compression = zipfile.ZIP_DEFLATED\n",
    "    # create the zip file first parameter path/name, second mode\n",
    "    with zipfile.ZipFile(\"result.zip\", mode=\"w\") as zf:\n",
    "        for file_name in file_names:\n",
    "            # Add file to the zip file\n",
    "            # first parameter file to zip, second filename in zip\n",
    "            zf.write('./' + file_name, file_name, compress_type=compression)\n",
    "\n",
    "\n",
    "file_names = [\"answers.npz\",'statistics.ipynb']\n",
    "compress(file_names)"
   ]
  }
 ],
 "metadata": {
  "kernelspec": {
   "display_name": "Python 3",
   "language": "python",
   "name": "python3"
  },
  "language_info": {
   "codemirror_mode": {
    "name": "ipython",
    "version": 3
   },
   "file_extension": ".py",
   "mimetype": "text/x-python",
   "name": "python",
   "nbconvert_exporter": "python",
   "pygments_lexer": "ipython3",
   "version": "3.10.9"
  },
  "orig_nbformat": 4,
  "vscode": {
   "interpreter": {
    "hash": "e897f0676b185ac58fdef5d15caf12b36f55050acef5c3897f1ea1504ac8e199"
   }
  }
 },
 "nbformat": 4,
 "nbformat_minor": 2
}
