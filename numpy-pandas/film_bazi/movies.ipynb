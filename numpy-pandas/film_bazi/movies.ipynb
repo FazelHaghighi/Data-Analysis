{
 "cells": [
  {
   "attachments": {},
   "cell_type": "markdown",
   "metadata": {},
   "source": [
    "<h1 align=center style=\"line-height:200%;font-family:vazir;color:#0099cc\">\n",
    "<font face=\"vazir\" color=\"#0099cc\">\n",
    "فیلم بازی\n",
    "</font>\n",
    "</h1>"
   ]
  },
  {
   "attachments": {},
   "cell_type": "markdown",
   "metadata": {},
   "source": [
    "<p dir=rtl style=\"direction: rtl; text-align: justify; line-height:200%; font-family:vazir; font-size:medium\">\n",
    "<font face=\"vazir\" size=3>\n",
    "در ابتدا چون نیاز به توابع کتابخانه‌ی <code>pandas</code> داریم، نیاز است آن را <code>import</code> کنیم.\n",
    "</font>\n",
    "</p>"
   ]
  },
  {
   "cell_type": "code",
   "execution_count": 1,
   "metadata": {
    "collapsed": false,
    "jupyter": {
     "outputs_hidden": false
    },
    "pycharm": {
     "name": "#%%\n"
    }
   },
   "outputs": [],
   "source": [
    "import pandas as pd"
   ]
  },
  {
   "attachments": {},
   "cell_type": "markdown",
   "metadata": {},
   "source": [
    "<p dir=rtl style=\"direction: rtl; text-align: justify; line-height:200%; font-family:vazir; font-size:medium\">\n",
    "<font face=\"vazir\" size=3>\n",
    "در کنار این نت‌بوک فایلی به نام <code>dates.csv</code> وجود دارد. آن را به کمک <code>pandas</code> بخوانید.\n",
    "</font>\n",
    "</p>"
   ]
  },
  {
   "cell_type": "code",
   "execution_count": 210,
   "metadata": {
    "collapsed": false,
    "jupyter": {
     "outputs_hidden": false
    },
    "pycharm": {
     "name": "#%%\n"
    }
   },
   "outputs": [],
   "source": [
    "df = pd.read_csv('dates.csv')"
   ]
  },
  {
   "attachments": {},
   "cell_type": "markdown",
   "metadata": {},
   "source": [
    "<p dir=rtl style=\"direction: rtl; text-align: justify; line-height:200%; font-family:vazir; font-size:medium\">\n",
    "<font face=\"vazir\" size=3>\n",
    "می‌توانید با استفاده از متد <code>describe</code> خلاصه‌ای از اطلاعات هر ستون را مشاهده کنید.\n",
    "</font>\n",
    "</p>"
   ]
  },
  {
   "cell_type": "code",
   "execution_count": 211,
   "metadata": {},
   "outputs": [
    {
     "data": {
      "text/html": [
       "<div>\n",
       "<style scoped>\n",
       "    .dataframe tbody tr th:only-of-type {\n",
       "        vertical-align: middle;\n",
       "    }\n",
       "\n",
       "    .dataframe tbody tr th {\n",
       "        vertical-align: top;\n",
       "    }\n",
       "\n",
       "    .dataframe thead th {\n",
       "        text-align: right;\n",
       "    }\n",
       "</style>\n",
       "<table border=\"1\" class=\"dataframe\">\n",
       "  <thead>\n",
       "    <tr style=\"text-align: right;\">\n",
       "      <th></th>\n",
       "      <th>Unnamed: 0</th>\n",
       "      <th>year</th>\n",
       "    </tr>\n",
       "  </thead>\n",
       "  <tbody>\n",
       "    <tr>\n",
       "      <th>count</th>\n",
       "      <td>5000.000000</td>\n",
       "      <td>5000.000000</td>\n",
       "    </tr>\n",
       "    <tr>\n",
       "      <th>mean</th>\n",
       "      <td>222892.446400</td>\n",
       "      <td>1985.259200</td>\n",
       "    </tr>\n",
       "    <tr>\n",
       "      <th>std</th>\n",
       "      <td>126952.536025</td>\n",
       "      <td>27.788351</td>\n",
       "    </tr>\n",
       "    <tr>\n",
       "      <th>min</th>\n",
       "      <td>108.000000</td>\n",
       "      <td>1911.000000</td>\n",
       "    </tr>\n",
       "    <tr>\n",
       "      <th>25%</th>\n",
       "      <td>113078.500000</td>\n",
       "      <td>1966.000000</td>\n",
       "    </tr>\n",
       "    <tr>\n",
       "      <th>50%</th>\n",
       "      <td>222977.500000</td>\n",
       "      <td>1996.000000</td>\n",
       "    </tr>\n",
       "    <tr>\n",
       "      <th>75%</th>\n",
       "      <td>332407.000000</td>\n",
       "      <td>2008.000000</td>\n",
       "    </tr>\n",
       "    <tr>\n",
       "      <th>max</th>\n",
       "      <td>441544.000000</td>\n",
       "      <td>2020.000000</td>\n",
       "    </tr>\n",
       "  </tbody>\n",
       "</table>\n",
       "</div>"
      ],
      "text/plain": [
       "          Unnamed: 0         year\n",
       "count    5000.000000  5000.000000\n",
       "mean   222892.446400  1985.259200\n",
       "std    126952.536025    27.788351\n",
       "min       108.000000  1911.000000\n",
       "25%    113078.500000  1966.000000\n",
       "50%    222977.500000  1996.000000\n",
       "75%    332407.000000  2008.000000\n",
       "max    441544.000000  2020.000000"
      ]
     },
     "execution_count": 211,
     "metadata": {},
     "output_type": "execute_result"
    }
   ],
   "source": [
    "df.describe()"
   ]
  },
  {
   "attachments": {},
   "cell_type": "markdown",
   "metadata": {},
   "source": [
    "<p dir=rtl style=\"direction: rtl; text-align: justify; line-height:200%; font-family:vazir; font-size:medium\">\n",
    "<font face=\"vazir\" size=3>\n",
    "می‌توانید به وسیله‌ی متد <code>head</code> چند ردیف اول از داده‌ها را مشاهده کنید.\n",
    "</font>\n",
    "</p>"
   ]
  },
  {
   "cell_type": "code",
   "execution_count": 212,
   "metadata": {},
   "outputs": [
    {
     "data": {
      "text/html": [
       "<div>\n",
       "<style scoped>\n",
       "    .dataframe tbody tr th:only-of-type {\n",
       "        vertical-align: middle;\n",
       "    }\n",
       "\n",
       "    .dataframe tbody tr th {\n",
       "        vertical-align: top;\n",
       "    }\n",
       "\n",
       "    .dataframe thead th {\n",
       "        text-align: right;\n",
       "    }\n",
       "</style>\n",
       "<table border=\"1\" class=\"dataframe\">\n",
       "  <thead>\n",
       "    <tr style=\"text-align: right;\">\n",
       "      <th></th>\n",
       "      <th>Unnamed: 0</th>\n",
       "      <th>title</th>\n",
       "      <th>year</th>\n",
       "      <th>country</th>\n",
       "      <th>date</th>\n",
       "    </tr>\n",
       "  </thead>\n",
       "  <tbody>\n",
       "    <tr>\n",
       "      <th>0</th>\n",
       "      <td>324126</td>\n",
       "      <td>Synecdoche, New York</td>\n",
       "      <td>2008</td>\n",
       "      <td>USA</td>\n",
       "      <td>2008-11-21</td>\n",
       "    </tr>\n",
       "    <tr>\n",
       "      <th>1</th>\n",
       "      <td>66463</td>\n",
       "      <td>Close Encounters of the Third Kind</td>\n",
       "      <td>1977</td>\n",
       "      <td>Greece</td>\n",
       "      <td>1978-03-10</td>\n",
       "    </tr>\n",
       "    <tr>\n",
       "      <th>2</th>\n",
       "      <td>51496</td>\n",
       "      <td>Brotherly Love</td>\n",
       "      <td>1928</td>\n",
       "      <td>Finland</td>\n",
       "      <td>1929-11-18</td>\n",
       "    </tr>\n",
       "    <tr>\n",
       "      <th>3</th>\n",
       "      <td>236362</td>\n",
       "      <td>My Son, My Son!</td>\n",
       "      <td>1940</td>\n",
       "      <td>Mexico</td>\n",
       "      <td>1940-05-23</td>\n",
       "    </tr>\n",
       "    <tr>\n",
       "      <th>4</th>\n",
       "      <td>374347</td>\n",
       "      <td>The North Avenue Irregulars</td>\n",
       "      <td>1979</td>\n",
       "      <td>USA</td>\n",
       "      <td>1979-02-09</td>\n",
       "    </tr>\n",
       "  </tbody>\n",
       "</table>\n",
       "</div>"
      ],
      "text/plain": [
       "   Unnamed: 0                               title  year  country        date\n",
       "0      324126                Synecdoche, New York  2008      USA  2008-11-21\n",
       "1       66463  Close Encounters of the Third Kind  1977   Greece  1978-03-10\n",
       "2       51496                      Brotherly Love  1928  Finland  1929-11-18\n",
       "3      236362                     My Son, My Son!  1940   Mexico  1940-05-23\n",
       "4      374347         The North Avenue Irregulars  1979      USA  1979-02-09"
      ]
     },
     "execution_count": 212,
     "metadata": {},
     "output_type": "execute_result"
    }
   ],
   "source": [
    "df.head()"
   ]
  },
  {
   "attachments": {},
   "cell_type": "markdown",
   "metadata": {},
   "source": [
    "<p dir=rtl style=\"direction: rtl; text-align: justify; line-height:200%; font-family:vazir; font-size:medium\">\n",
    "<font face=\"vazir\" size=3>\n",
    "در <code>pandas</code> وقتی نام ستونی در فایل <code>csv</code> ذکر نشده باشد، آن را به‌صورت <code>Unnamed: i</code> نام‌گذاری می‌کند که <code>i</code> نشان‌دهنده‌ی <code>i</code> ستون بدون نام <code>i</code> اُم است.\n",
    "<br>\n",
    "اگر به کمک دستور <code>head</code> بخشی از داده را مشاهده کرده باشید، مشاهده کرده‌اید که یک ستون <code>Unnamed</code> در این مجموعه‌داده وجود دارد.\n",
    "<br>\n",
    "به کمک متد <code>drop</code> این ستون را حذف کنید.\n",
    "<br>\n",
    "توجه داشته باشید که اگر از ویژگی <code>inplace</code> دستور <code>drop</code> استفاده نکرده باشید، این دستور یک دیتافریم جدید بر می‌گرداند و باید آن را مجدد در متغیر ذخیره کنید. در غیر این‌صورت می‌توانید از <code>inplace=True</code> استفاده کنید.\n",
    "</font>\n",
    "</p>"
   ]
  },
  {
   "cell_type": "code",
   "execution_count": 213,
   "metadata": {
    "collapsed": false,
    "jupyter": {
     "outputs_hidden": false
    },
    "pycharm": {
     "name": "#%%\n"
    }
   },
   "outputs": [],
   "source": [
    "df.drop(['Unnamed: 0'], axis=1, inplace=True)"
   ]
  },
  {
   "attachments": {},
   "cell_type": "markdown",
   "metadata": {},
   "source": [
    "<p dir=rtl style=\"direction: rtl; text-align: justify; line-height:200%; font-family:vazir; font-size:medium\">\n",
    "<font face=\"vazir\" size=3>\n",
    "اکنون اگر به نوع (<code>type</code>) ستون‌های دیتافریم نگاهی بی‌اندازید مشاهده می‌کنید که نوع ستون <code>date</code> از نوع کلی <code>object</code> می‌باشد، در حالی‌که می‌دانیم این ستون باید از نوع <code>datatime</code> باشد.\n",
    "<br>\n",
    "یکی از قابلیت‌های کتابخانه‌ی <code>pandas</code> تبدیل ستون از نوع رشته با فرمت خاص به نوع <code>datetime</code> می‌باشد. این کار باعث راحت‌تر شدن فیلتر کردن تاریخ و کار با داده‌های از جنس <code>datetime</code> می‌شود.\n",
    "</font>\n",
    "</p>"
   ]
  },
  {
   "cell_type": "code",
   "execution_count": 214,
   "metadata": {},
   "outputs": [
    {
     "name": "stdout",
     "output_type": "stream",
     "text": [
      "title      object\n",
      "year        int64\n",
      "country    object\n",
      "date       object\n",
      "dtype: object\n"
     ]
    }
   ],
   "source": [
    "print(df.dtypes)"
   ]
  },
  {
   "cell_type": "code",
   "execution_count": 215,
   "metadata": {},
   "outputs": [
    {
     "name": "stdout",
     "output_type": "stream",
     "text": [
      "title                     object\n",
      "year                       int64\n",
      "country                   object\n",
      "date                      object\n",
      "formatted_date    datetime64[ns]\n",
      "dtype: object\n"
     ]
    }
   ],
   "source": [
    "df[\"formatted_date\"]  = pd.to_datetime(df[\"date\"])\n",
    "\n",
    "print(df.dtypes)"
   ]
  },
  {
   "attachments": {},
   "cell_type": "markdown",
   "metadata": {},
   "source": [
    "<p dir=rtl style=\"direction: rtl; text-align: justify; line-height:200%; font-family:vazir; font-size:medium\">\n",
    "<font face=\"vazir\" size=3>\n",
    "اکنون اگر ستون <code>formatted_date</code> را به‌عنوان <code>index</code> برای دیتافریم انتخاب کنید، می‌توانید فیلترهای خیلی ساده‌تری بر روی تاریخ اعمال کنید و به‌راحتی در بازه‌های زمانی، تحلیل خود را انجام دهید.\n",
    "<br>\n",
    "می‌توانید این کار را \n",
    "با استفاده از متد <code>set_index</code>\n",
    "(<a href=\"https://pandas.pydata.org/pandas-docs/stable/reference/api/pandas.DataFrame.set_index.html\">مطالعه‌ی مستندات</a>) انجام دهید.\n",
    "</font>\n",
    "</p>"
   ]
  },
  {
   "cell_type": "code",
   "execution_count": 216,
   "metadata": {},
   "outputs": [],
   "source": [
    "df.set_index(\"formatted_date\", inplace=True)"
   ]
  },
  {
   "cell_type": "code",
   "execution_count": 217,
   "metadata": {},
   "outputs": [
    {
     "name": "stderr",
     "output_type": "stream",
     "text": [
      "C:\\Users\\Fazel\\AppData\\Local\\Temp\\ipykernel_13680\\1930636043.py:1: FutureWarning: Value based partial slicing on non-monotonic DatetimeIndexes with non-existing keys is deprecated and will raise a KeyError in a future Version.\n",
      "  df[\"2015-5\":\"2015-5\"]\n"
     ]
    },
    {
     "data": {
      "text/html": [
       "<div>\n",
       "<style scoped>\n",
       "    .dataframe tbody tr th:only-of-type {\n",
       "        vertical-align: middle;\n",
       "    }\n",
       "\n",
       "    .dataframe tbody tr th {\n",
       "        vertical-align: top;\n",
       "    }\n",
       "\n",
       "    .dataframe thead th {\n",
       "        text-align: right;\n",
       "    }\n",
       "</style>\n",
       "<table border=\"1\" class=\"dataframe\">\n",
       "  <thead>\n",
       "    <tr style=\"text-align: right;\">\n",
       "      <th></th>\n",
       "      <th>title</th>\n",
       "      <th>year</th>\n",
       "      <th>country</th>\n",
       "      <th>date</th>\n",
       "    </tr>\n",
       "    <tr>\n",
       "      <th>formatted_date</th>\n",
       "      <th></th>\n",
       "      <th></th>\n",
       "      <th></th>\n",
       "      <th></th>\n",
       "    </tr>\n",
       "  </thead>\n",
       "  <tbody>\n",
       "    <tr>\n",
       "      <th>2015-05-07</th>\n",
       "      <td>Les combattants</td>\n",
       "      <td>2014</td>\n",
       "      <td>Greece</td>\n",
       "      <td>2015-05-07</td>\n",
       "    </tr>\n",
       "    <tr>\n",
       "      <th>2015-05-07</th>\n",
       "      <td>Hot Pursuit</td>\n",
       "      <td>2015</td>\n",
       "      <td>Philippines</td>\n",
       "      <td>2015-05-07</td>\n",
       "    </tr>\n",
       "    <tr>\n",
       "      <th>2015-05-21</th>\n",
       "      <td>Tomorrowland</td>\n",
       "      <td>2015</td>\n",
       "      <td>Israel</td>\n",
       "      <td>2015-05-21</td>\n",
       "    </tr>\n",
       "    <tr>\n",
       "      <th>2015-05-21</th>\n",
       "      <td>Kami no tsuki</td>\n",
       "      <td>2014</td>\n",
       "      <td>Hong Kong</td>\n",
       "      <td>2015-05-21</td>\n",
       "    </tr>\n",
       "    <tr>\n",
       "      <th>2015-05-21</th>\n",
       "      <td>Tomorrowland</td>\n",
       "      <td>2015</td>\n",
       "      <td>Ukraine</td>\n",
       "      <td>2015-05-21</td>\n",
       "    </tr>\n",
       "    <tr>\n",
       "      <th>2015-05-28</th>\n",
       "      <td>Paul Blart: Mall Cop 2</td>\n",
       "      <td>2015</td>\n",
       "      <td>Czech Republic</td>\n",
       "      <td>2015-05-28</td>\n",
       "    </tr>\n",
       "    <tr>\n",
       "      <th>2015-05-15</th>\n",
       "      <td>A Royal Night Out</td>\n",
       "      <td>2015</td>\n",
       "      <td>Ireland</td>\n",
       "      <td>2015-05-15</td>\n",
       "    </tr>\n",
       "    <tr>\n",
       "      <th>2015-05-21</th>\n",
       "      <td>She's Funny That Way</td>\n",
       "      <td>2014</td>\n",
       "      <td>Serbia</td>\n",
       "      <td>2015-05-21</td>\n",
       "    </tr>\n",
       "    <tr>\n",
       "      <th>2015-05-08</th>\n",
       "      <td>The Little Death</td>\n",
       "      <td>2014</td>\n",
       "      <td>UK</td>\n",
       "      <td>2015-05-08</td>\n",
       "    </tr>\n",
       "    <tr>\n",
       "      <th>2015-05-22</th>\n",
       "      <td>Kamara Kattu</td>\n",
       "      <td>2015</td>\n",
       "      <td>India</td>\n",
       "      <td>2015-05-22</td>\n",
       "    </tr>\n",
       "    <tr>\n",
       "      <th>2015-05-22</th>\n",
       "      <td>Na Maloom Afraad</td>\n",
       "      <td>2014</td>\n",
       "      <td>UK</td>\n",
       "      <td>2015-05-22</td>\n",
       "    </tr>\n",
       "    <tr>\n",
       "      <th>2015-05-29</th>\n",
       "      <td>I Love Desi</td>\n",
       "      <td>2015</td>\n",
       "      <td>India</td>\n",
       "      <td>2015-05-29</td>\n",
       "    </tr>\n",
       "    <tr>\n",
       "      <th>2015-05-29</th>\n",
       "      <td>What We Did on Our Holiday</td>\n",
       "      <td>2014</td>\n",
       "      <td>Spain</td>\n",
       "      <td>2015-05-29</td>\n",
       "    </tr>\n",
       "    <tr>\n",
       "      <th>2015-05-22</th>\n",
       "      <td>Jamai 420</td>\n",
       "      <td>2015</td>\n",
       "      <td>India</td>\n",
       "      <td>2015-05-22</td>\n",
       "    </tr>\n",
       "    <tr>\n",
       "      <th>2015-05-13</th>\n",
       "      <td>Aynehaye rooberoo</td>\n",
       "      <td>2011</td>\n",
       "      <td>France</td>\n",
       "      <td>2015-05-13</td>\n",
       "    </tr>\n",
       "    <tr>\n",
       "      <th>2015-05-29</th>\n",
       "      <td>Wonder Mama</td>\n",
       "      <td>2014</td>\n",
       "      <td>China</td>\n",
       "      <td>2015-05-29</td>\n",
       "    </tr>\n",
       "    <tr>\n",
       "      <th>2015-05-22</th>\n",
       "      <td>1944</td>\n",
       "      <td>2015</td>\n",
       "      <td>Lithuania</td>\n",
       "      <td>2015-05-22</td>\n",
       "    </tr>\n",
       "    <tr>\n",
       "      <th>2015-05-29</th>\n",
       "      <td>10.000 Km</td>\n",
       "      <td>2014</td>\n",
       "      <td>Sweden</td>\n",
       "      <td>2015-05-29</td>\n",
       "    </tr>\n",
       "    <tr>\n",
       "      <th>2015-05-22</th>\n",
       "      <td>Unfinished Business</td>\n",
       "      <td>2015</td>\n",
       "      <td>Turkey</td>\n",
       "      <td>2015-05-22</td>\n",
       "    </tr>\n",
       "  </tbody>\n",
       "</table>\n",
       "</div>"
      ],
      "text/plain": [
       "                                     title  year         country        date\n",
       "formatted_date                                                              \n",
       "2015-05-07                 Les combattants  2014          Greece  2015-05-07\n",
       "2015-05-07                     Hot Pursuit  2015     Philippines  2015-05-07\n",
       "2015-05-21                    Tomorrowland  2015          Israel  2015-05-21\n",
       "2015-05-21                   Kami no tsuki  2014       Hong Kong  2015-05-21\n",
       "2015-05-21                    Tomorrowland  2015         Ukraine  2015-05-21\n",
       "2015-05-28          Paul Blart: Mall Cop 2  2015  Czech Republic  2015-05-28\n",
       "2015-05-15               A Royal Night Out  2015         Ireland  2015-05-15\n",
       "2015-05-21            She's Funny That Way  2014          Serbia  2015-05-21\n",
       "2015-05-08                The Little Death  2014              UK  2015-05-08\n",
       "2015-05-22                    Kamara Kattu  2015           India  2015-05-22\n",
       "2015-05-22                Na Maloom Afraad  2014              UK  2015-05-22\n",
       "2015-05-29                     I Love Desi  2015           India  2015-05-29\n",
       "2015-05-29      What We Did on Our Holiday  2014           Spain  2015-05-29\n",
       "2015-05-22                       Jamai 420  2015           India  2015-05-22\n",
       "2015-05-13               Aynehaye rooberoo  2011          France  2015-05-13\n",
       "2015-05-29                     Wonder Mama  2014           China  2015-05-29\n",
       "2015-05-22                            1944  2015       Lithuania  2015-05-22\n",
       "2015-05-29                       10.000 Km  2014          Sweden  2015-05-29\n",
       "2015-05-22             Unfinished Business  2015          Turkey  2015-05-22"
      ]
     },
     "execution_count": 217,
     "metadata": {},
     "output_type": "execute_result"
    }
   ],
   "source": [
    "df[\"2015-5\":\"2015-5\"]"
   ]
  },
  {
   "attachments": {},
   "cell_type": "markdown",
   "metadata": {},
   "source": [
    "<p dir=rtl style=\"direction: rtl; text-align: justify; line-height:200%; font-family:vazir; font-size:medium\">\n",
    "<font face=\"vazir\" size=3>\n",
    "یکی دیگر از متدها‌ی <code>pandas</code> که کار را برای پردازش داده‌های رشته‌ای بسیار راحت می‌کند متد <code>str</code> است. با استفاده از این متد می‌توانید فیلترهایی به شکل <code>regex</code> را بر روی داده‌های رشته‌ای اعمال کنید.\n",
    "<br>\n",
    "به‌طور مثال می‌خواهیم تمام فیلم‌هایی که نام کشور آن‌ها فاقد فاصله (space) هستند و سال ساخت آن‌ها ماه دسامبر ۲۰۰۵ می‌باشد را فیلتر کنیم: \n",
    "</font>\n",
    "</p>"
   ]
  },
  {
   "cell_type": "code",
   "execution_count": 218,
   "metadata": {},
   "outputs": [
    {
     "name": "stderr",
     "output_type": "stream",
     "text": [
      "C:\\Users\\Fazel\\AppData\\Local\\Temp\\ipykernel_13680\\3806801264.py:1: FutureWarning: Indexing a DataFrame with a datetimelike index using a single string to slice the rows, like `frame[string]`, is deprecated and will be removed in a future version. Use `frame.loc[string]` instead.\n",
      "  m_2005 = df[\"2005-12\"]\n"
     ]
    },
    {
     "data": {
      "text/html": [
       "<div>\n",
       "<style scoped>\n",
       "    .dataframe tbody tr th:only-of-type {\n",
       "        vertical-align: middle;\n",
       "    }\n",
       "\n",
       "    .dataframe tbody tr th {\n",
       "        vertical-align: top;\n",
       "    }\n",
       "\n",
       "    .dataframe thead th {\n",
       "        text-align: right;\n",
       "    }\n",
       "</style>\n",
       "<table border=\"1\" class=\"dataframe\">\n",
       "  <thead>\n",
       "    <tr style=\"text-align: right;\">\n",
       "      <th></th>\n",
       "      <th>title</th>\n",
       "      <th>year</th>\n",
       "      <th>country</th>\n",
       "      <th>date</th>\n",
       "    </tr>\n",
       "    <tr>\n",
       "      <th>formatted_date</th>\n",
       "      <th></th>\n",
       "      <th></th>\n",
       "      <th></th>\n",
       "      <th></th>\n",
       "    </tr>\n",
       "  </thead>\n",
       "  <tbody>\n",
       "    <tr>\n",
       "      <th>2005-12-08</th>\n",
       "      <td>Creep</td>\n",
       "      <td>2004</td>\n",
       "      <td>Hong Kong</td>\n",
       "      <td>2005-12-08</td>\n",
       "    </tr>\n",
       "    <tr>\n",
       "      <th>2005-12-28</th>\n",
       "      <td>Maxx</td>\n",
       "      <td>2005</td>\n",
       "      <td>Iran</td>\n",
       "      <td>2005-12-28</td>\n",
       "    </tr>\n",
       "    <tr>\n",
       "      <th>2005-12-23</th>\n",
       "      <td>The Chronicles of Narnia: The Lion, the Witch ...</td>\n",
       "      <td>2005</td>\n",
       "      <td>Bulgaria</td>\n",
       "      <td>2005-12-23</td>\n",
       "    </tr>\n",
       "    <tr>\n",
       "      <th>2005-12-08</th>\n",
       "      <td>Bulutlari beklerken</td>\n",
       "      <td>2003</td>\n",
       "      <td>Germany</td>\n",
       "      <td>2005-12-08</td>\n",
       "    </tr>\n",
       "    <tr>\n",
       "      <th>2005-12-14</th>\n",
       "      <td>King Kong</td>\n",
       "      <td>2005</td>\n",
       "      <td>Georgia</td>\n",
       "      <td>2005-12-14</td>\n",
       "    </tr>\n",
       "    <tr>\n",
       "      <th>2005-12-15</th>\n",
       "      <td>King Kong</td>\n",
       "      <td>2005</td>\n",
       "      <td>Kazakhstan</td>\n",
       "      <td>2005-12-15</td>\n",
       "    </tr>\n",
       "    <tr>\n",
       "      <th>2005-12-22</th>\n",
       "      <td>Corpse Bride</td>\n",
       "      <td>2005</td>\n",
       "      <td>Portugal</td>\n",
       "      <td>2005-12-22</td>\n",
       "    </tr>\n",
       "    <tr>\n",
       "      <th>2005-12-02</th>\n",
       "      <td>Keeping Mum</td>\n",
       "      <td>2005</td>\n",
       "      <td>Ireland</td>\n",
       "      <td>2005-12-02</td>\n",
       "    </tr>\n",
       "    <tr>\n",
       "      <th>2005-12-28</th>\n",
       "      <td>Tiempo real</td>\n",
       "      <td>2002</td>\n",
       "      <td>France</td>\n",
       "      <td>2005-12-28</td>\n",
       "    </tr>\n",
       "    <tr>\n",
       "      <th>2005-12-22</th>\n",
       "      <td>The Chronicles of Narnia: The Lion, the Witch ...</td>\n",
       "      <td>2005</td>\n",
       "      <td>Singapore</td>\n",
       "      <td>2005-12-22</td>\n",
       "    </tr>\n",
       "  </tbody>\n",
       "</table>\n",
       "</div>"
      ],
      "text/plain": [
       "                                                            title  year  \\\n",
       "formatted_date                                                            \n",
       "2005-12-08                                                  Creep  2004   \n",
       "2005-12-28                                                   Maxx  2005   \n",
       "2005-12-23      The Chronicles of Narnia: The Lion, the Witch ...  2005   \n",
       "2005-12-08                                    Bulutlari beklerken  2003   \n",
       "2005-12-14                                              King Kong  2005   \n",
       "2005-12-15                                              King Kong  2005   \n",
       "2005-12-22                                           Corpse Bride  2005   \n",
       "2005-12-02                                            Keeping Mum  2005   \n",
       "2005-12-28                                            Tiempo real  2002   \n",
       "2005-12-22      The Chronicles of Narnia: The Lion, the Witch ...  2005   \n",
       "\n",
       "                   country        date  \n",
       "formatted_date                          \n",
       "2005-12-08       Hong Kong  2005-12-08  \n",
       "2005-12-28            Iran  2005-12-28  \n",
       "2005-12-23        Bulgaria  2005-12-23  \n",
       "2005-12-08         Germany  2005-12-08  \n",
       "2005-12-14         Georgia  2005-12-14  \n",
       "2005-12-15      Kazakhstan  2005-12-15  \n",
       "2005-12-22        Portugal  2005-12-22  \n",
       "2005-12-02         Ireland  2005-12-02  \n",
       "2005-12-28          France  2005-12-28  \n",
       "2005-12-22       Singapore  2005-12-22  "
      ]
     },
     "execution_count": 218,
     "metadata": {},
     "output_type": "execute_result"
    }
   ],
   "source": [
    "m_2005 = df[\"2005-12\"]\n",
    "m_2005[m_2005['country'].str.match(r\"\\S\")]"
   ]
  },
  {
   "attachments": {},
   "cell_type": "markdown",
   "metadata": {},
   "source": [
    "<p dir=rtl style=\"direction: rtl; text-align: justify; line-height:200%; font-family:vazir; font-size:medium\">\n",
    "<font face=\"vazir\" size=3>\n",
    "برای این تمرین شما بایستی پس از حذف ستون <code>Unnamed: i</code> تمامی فیلم‌هایی که در بازه‌ی زمانی <code>2000-11</code> تا <code>2018-11</code> ساخته شده‌اند و اول نام فیلم‌ها با حرف <code>B</code> شروع می‌شود را فیلتر کرده و مقادیر خروجی را با توجه به <code>index</code> و با کمک متد <code>sort_index</code>\n",
    "(<a href=\"https://pandas.pydata.org/pandas-docs/stable/reference/api/pandas.DataFrame.sort_index.html\">مطالعه‌ی مستندات</a>)\n",
    "مرتب کرده و در فایلی به نام <code>sample.csv</code> ذخیره کنید.\n",
    "</font>\n",
    "</p>\n",
    "\n",
    "<p dir=rtl style=\"direction: rtl; text-align: justify; line-height:200%; font-family:vazir; font-size:medium\">\n",
    "<font face=\"vazir\" size=3 color=\"red\">\n",
    "توجه:\n",
    "</font>\n",
    "<font face=\"vazir\" size=3>\n",
    "نام متغیر نهایی را از <code>filtered_df</code> تغییر ندهید.\n",
    "</font>\n",
    "</font>\n",
    "</p>"
   ]
  },
  {
   "cell_type": "code",
   "execution_count": 219,
   "metadata": {},
   "outputs": [],
   "source": [
    "df = df.loc['2000-11':'2018-11']\n",
    "df = df[df.title.str[0] == \"B\"]\n",
    "filtered_df = df.sort_index(ascending=True)"
   ]
  },
  {
   "attachments": {},
   "cell_type": "markdown",
   "metadata": {},
   "source": [
    "<p dir=rtl style=\"direction: rtl; text-align: justify; line-height:200%; font-family:vazir; font-size:medium\">\n",
    "<font face=\"vazir\" size=3>\n",
    "برای بررسی پاسخ خود می‌توانید از سلول‌های زیر استفاده کنید.\n",
    "<br>\n",
    "در سلول نخست، مقادیر ستون‌های اولین ردیف از جدول شما بررسی می‌شود.\n",
    "<br>\n",
    "در سلول بعدی <code>index</code> اولین ردیف شما بررسی می‌شود.\n",
    "<br>\n",
    "همچنین در سلول آخر، ابعاد (<code>shape</code>) دیتافریم خروجی شما بررسی می‌شود.\n",
    "</font>\n",
    "</p>\n"
   ]
  },
  {
   "cell_type": "code",
   "execution_count": 220,
   "metadata": {},
   "outputs": [],
   "source": [
    "assert filtered_df.iloc[0].to_dict() == {'title': 'Bless the Child','year': 2000, 'country': 'Iceland', 'date': '2001-01-12'}"
   ]
  },
  {
   "cell_type": "code",
   "execution_count": 221,
   "metadata": {},
   "outputs": [],
   "source": [
    "assert filtered_df.head(1).index == '2001-01-12'"
   ]
  },
  {
   "cell_type": "code",
   "execution_count": 222,
   "metadata": {},
   "outputs": [],
   "source": [
    "assert filtered_df.shape == (99, 4)"
   ]
  },
  {
   "attachments": {},
   "cell_type": "markdown",
   "metadata": {},
   "source": [
    "<p dir=rtl style=\"direction: rtl; text-align: justify; line-height:200%; font-family:vazir; font-size:medium\">\n",
    "<font face=\"vazir\" size=3>\n",
    "متد <code>to_csv</code> را بدون هیچ پارامتر دیگری به جز نام فایل یعنی <code>sample.csv</code> صدا بزنید و مقادیر پیش‌فرض <code>header</code> و <code>index</code> را تغییر ندهید. یعنی به شکل زیر:\n",
    "</font>\n",
    "</p>\n"
   ]
  },
  {
   "cell_type": "code",
   "execution_count": 223,
   "metadata": {
    "collapsed": false,
    "jupyter": {
     "outputs_hidden": false
    },
    "pycharm": {
     "name": "#%%\n"
    }
   },
   "outputs": [],
   "source": [
    "filtered_df.to_csv('sample.csv')"
   ]
  },
  {
   "attachments": {},
   "cell_type": "markdown",
   "metadata": {},
   "source": [
    "<h2 align=right style=\"line-height:200%;font-family:vazir;color:#0099cc\">\n",
    "<font face=\"vazir\" color=\"#0099cc\">\n",
    "<b>سلول جواب‌ساز</b>\n",
    "</font>\n",
    "</h2>\n",
    "\n",
    "<p dir=rtl style=\"direction: rtl; text-align: justify; line-height:200%; font-family:vazir; font-size:medium\">\n",
    "<font face=\"vazir\" size=3>\n",
    "    برای ساخته‌شدن فایل <code>result.zip</code> سلول زیر را اجرا کنید. توجه داشته باشید که پیش از اجرای سلول زیر تغییرات اعمال شده در نت‌بوک را ذخیره کرده باشید (<code>ctrl+s</code>) تا در صورت نیاز به راهنمایی امکان بررسی کد شما وجود داشته باشد.\n",
    "</font>\n",
    "</p>"
   ]
  },
  {
   "cell_type": "code",
   "execution_count": 224,
   "metadata": {},
   "outputs": [
    {
     "name": "stdout",
     "output_type": "stream",
     "text": [
      "File Paths:\n",
      "['sample.csv', 'movies.ipynb']\n"
     ]
    }
   ],
   "source": [
    "import zlib\n",
    "import zipfile\n",
    "\n",
    "def compress(file_names):\n",
    "    print(\"File Paths:\")\n",
    "    print(file_names)\n",
    "    compression = zipfile.ZIP_DEFLATED\n",
    "    with zipfile.ZipFile(\"result.zip\", mode=\"w\") as zf:\n",
    "        for file_name in file_names:\n",
    "            zf.write('./'+file_name, file_name, compress_type=compression)\n",
    "\n",
    "file_names= [\"sample.csv\", \"movies.ipynb\"]\n",
    "compress(file_names)"
   ]
  }
 ],
 "metadata": {
  "kernelspec": {
   "display_name": "Python 3",
   "language": "python",
   "name": "python3"
  },
  "language_info": {
   "codemirror_mode": {
    "name": "ipython",
    "version": 3
   },
   "file_extension": ".py",
   "mimetype": "text/x-python",
   "name": "python",
   "nbconvert_exporter": "python",
   "pygments_lexer": "ipython3",
   "version": "3.10.9 (tags/v3.10.9:1dd9be6, Dec  6 2022, 20:01:21) [MSC v.1934 64 bit (AMD64)]"
  },
  "pycharm": {
   "stem_cell": {
    "cell_type": "raw",
    "metadata": {
     "collapsed": false
    },
    "source": []
   }
  },
  "vscode": {
   "interpreter": {
    "hash": "e897f0676b185ac58fdef5d15caf12b36f55050acef5c3897f1ea1504ac8e199"
   }
  }
 },
 "nbformat": 4,
 "nbformat_minor": 4
}
