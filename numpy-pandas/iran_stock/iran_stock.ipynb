{
 "cells": [
  {
   "attachments": {},
   "cell_type": "markdown",
   "metadata": {},
   "source": [
    "<h1 align=center style=\"line-height:200%;font-family:vazir;color:#0099cc\">\n",
    "<font face=\"vazir\" color=\"#0099cc\">\n",
    "بورس ایران\n",
    "</font>\n",
    "</h1>"
   ]
  },
  {
   "attachments": {},
   "cell_type": "markdown",
   "metadata": {},
   "source": [
    "<p dir=rtl style=\"direction: rtl; text-align: justify; line-height:200%; font-family:vazir; font-size:medium\">\n",
    "<font face=\"vazir\" size=3>\n",
    "در این تمرین قصد داریم با سری‌های زمانی و توابع کمکی کتابخانه‌ی <code>pandas</code> برای کار با داده‌های زمانی آشنا شویم.\n",
    "</font>\n",
    "</p>"
   ]
  },
  {
   "cell_type": "code",
   "execution_count": 1,
   "metadata": {},
   "outputs": [],
   "source": [
    "import numpy as np\n",
    "import pandas as pd\n",
    "from datetime import datetime"
   ]
  },
  {
   "attachments": {},
   "cell_type": "markdown",
   "metadata": {},
   "source": [
    "<p dir=rtl style=\"direction: rtl; text-align: justify; line-height:200%; font-family:vazir; font-size:medium\">\n",
    "<font face=\"vazir\" size=3>\n",
    "ابتدا داده‌ها را از فایل <code>stock_data.csv</code> خوانده و چند ردیف اول آن را مشاهده کنید تا با ویژگی‌های (features) این جدول بیشتر آشنا شوید.\n",
    "</font>\n",
    "</p>"
   ]
  },
  {
   "cell_type": "code",
   "execution_count": 2,
   "metadata": {},
   "outputs": [
    {
     "data": {
      "text/html": [
       "<div>\n",
       "<style scoped>\n",
       "    .dataframe tbody tr th:only-of-type {\n",
       "        vertical-align: middle;\n",
       "    }\n",
       "\n",
       "    .dataframe tbody tr th {\n",
       "        vertical-align: top;\n",
       "    }\n",
       "\n",
       "    .dataframe thead th {\n",
       "        text-align: right;\n",
       "    }\n",
       "</style>\n",
       "<table border=\"1\" class=\"dataframe\">\n",
       "  <thead>\n",
       "    <tr style=\"text-align: right;\">\n",
       "      <th></th>\n",
       "      <th>Unnamed: 0</th>\n",
       "      <th>تاریخ</th>\n",
       "      <th>اولین قیمت</th>\n",
       "      <th>نماد</th>\n",
       "      <th>نام</th>\n",
       "      <th>قیمت پایانی</th>\n",
       "      <th>قیمت آخرین معامله</th>\n",
       "      <th>تعداد معاملات</th>\n",
       "      <th>حجم</th>\n",
       "      <th>ارزش</th>\n",
       "      <th>کمترین قیمت</th>\n",
       "      <th>بیشترین قیمت</th>\n",
       "      <th>قیمت دیروز</th>\n",
       "      <th>تغییر</th>\n",
       "    </tr>\n",
       "  </thead>\n",
       "  <tbody>\n",
       "    <tr>\n",
       "      <th>0</th>\n",
       "      <td>59061939785593482</td>\n",
       "      <td>2020-04-18</td>\n",
       "      <td>3900.0</td>\n",
       "      <td>ونيروح</td>\n",
       "      <td>ح . سرمايه‌گذاري‌نيرو</td>\n",
       "      <td>3731.0</td>\n",
       "      <td>3680.0</td>\n",
       "      <td>9132</td>\n",
       "      <td>47838545</td>\n",
       "      <td>1.785056e+11</td>\n",
       "      <td>3630.0</td>\n",
       "      <td>3900.0</td>\n",
       "      <td>804.0</td>\n",
       "      <td>2927.0</td>\n",
       "    </tr>\n",
       "    <tr>\n",
       "      <th>1</th>\n",
       "      <td>45895339414786358</td>\n",
       "      <td>2020-04-18</td>\n",
       "      <td>31942.0</td>\n",
       "      <td>خرينگ</td>\n",
       "      <td>رينگ‌سازي‌مشهد</td>\n",
       "      <td>33509.0</td>\n",
       "      <td>33539.0</td>\n",
       "      <td>2016</td>\n",
       "      <td>4988569</td>\n",
       "      <td>1.671598e+11</td>\n",
       "      <td>31942.0</td>\n",
       "      <td>33539.0</td>\n",
       "      <td>30421.0</td>\n",
       "      <td>3088.0</td>\n",
       "    </tr>\n",
       "    <tr>\n",
       "      <th>2</th>\n",
       "      <td>63481599728522324</td>\n",
       "      <td>2020-04-18</td>\n",
       "      <td>6592.0</td>\n",
       "      <td>ثشاهد</td>\n",
       "      <td>سرمايه‌ گذاري‌ شاهد</td>\n",
       "      <td>6903.0</td>\n",
       "      <td>6921.0</td>\n",
       "      <td>858</td>\n",
       "      <td>9714861</td>\n",
       "      <td>6.706645e+10</td>\n",
       "      <td>6592.0</td>\n",
       "      <td>6921.0</td>\n",
       "      <td>6279.0</td>\n",
       "      <td>624.0</td>\n",
       "    </tr>\n",
       "    <tr>\n",
       "      <th>3</th>\n",
       "      <td>47841327496247362</td>\n",
       "      <td>2020-04-18</td>\n",
       "      <td>6902.0</td>\n",
       "      <td>واعتبار</td>\n",
       "      <td>سرمايه گذاري اعتبار ايران</td>\n",
       "      <td>7208.0</td>\n",
       "      <td>7100.0</td>\n",
       "      <td>2661</td>\n",
       "      <td>18862053</td>\n",
       "      <td>1.359531e+11</td>\n",
       "      <td>6902.0</td>\n",
       "      <td>7247.0</td>\n",
       "      <td>6574.0</td>\n",
       "      <td>634.0</td>\n",
       "    </tr>\n",
       "    <tr>\n",
       "      <th>4</th>\n",
       "      <td>3362850293262749</td>\n",
       "      <td>2020-04-18</td>\n",
       "      <td>20819.0</td>\n",
       "      <td>دالبرح</td>\n",
       "      <td>ح . البرزدارو</td>\n",
       "      <td>21692.0</td>\n",
       "      <td>21810.0</td>\n",
       "      <td>1169</td>\n",
       "      <td>3102060</td>\n",
       "      <td>6.728850e+10</td>\n",
       "      <td>20803.0</td>\n",
       "      <td>21810.0</td>\n",
       "      <td>19828.0</td>\n",
       "      <td>1864.0</td>\n",
       "    </tr>\n",
       "  </tbody>\n",
       "</table>\n",
       "</div>"
      ],
      "text/plain": [
       "          Unnamed: 0       تاریخ  اولین قیمت     نماد  \\\n",
       "0  59061939785593482  2020-04-18      3900.0   ونيروح   \n",
       "1  45895339414786358  2020-04-18     31942.0    خرينگ   \n",
       "2  63481599728522324  2020-04-18      6592.0    ثشاهد   \n",
       "3  47841327496247362  2020-04-18      6902.0  واعتبار   \n",
       "4   3362850293262749  2020-04-18     20819.0   دالبرح   \n",
       "\n",
       "                         نام  قیمت پایانی  قیمت آخرین معامله  تعداد معاملات  \\\n",
       "0      ح . سرمايه‌گذاري‌نيرو       3731.0             3680.0           9132   \n",
       "1             رينگ‌سازي‌مشهد      33509.0            33539.0           2016   \n",
       "2        سرمايه‌ گذاري‌ شاهد       6903.0             6921.0            858   \n",
       "3  سرمايه گذاري اعتبار ايران       7208.0             7100.0           2661   \n",
       "4              ح . البرزدارو      21692.0            21810.0           1169   \n",
       "\n",
       "        حجم          ارزش  کمترین قیمت  بیشترین قیمت  قیمت دیروز   تغییر  \n",
       "0  47838545  1.785056e+11       3630.0        3900.0       804.0  2927.0  \n",
       "1   4988569  1.671598e+11      31942.0       33539.0     30421.0  3088.0  \n",
       "2   9714861  6.706645e+10       6592.0        6921.0      6279.0   624.0  \n",
       "3  18862053  1.359531e+11       6902.0        7247.0      6574.0   634.0  \n",
       "4   3102060  6.728850e+10      20803.0       21810.0     19828.0  1864.0  "
      ]
     },
     "execution_count": 2,
     "metadata": {},
     "output_type": "execute_result"
    }
   ],
   "source": [
    "stock_df = pd.read_csv('stock_data.csv')\n",
    "stock_df.head()"
   ]
  },
  {
   "attachments": {},
   "cell_type": "markdown",
   "metadata": {},
   "source": [
    "<p dir=rtl style=\"direction: rtl; text-align: justify; line-height:200%; font-family:vazir; font-size:medium\">\n",
    "<font face=\"vazir\" size=3>\n",
    "ستون اول این جدول احتمالاً مربوط به <code>id</code> معاملات می‌باشد. با توجه به اینکه <code>index</code> در این مسئله اطلاعات خاصی به ما نمی‌دهد آن را حذف کنید.\n",
    "</font>\n",
    "</p>"
   ]
  },
  {
   "cell_type": "code",
   "execution_count": 3,
   "metadata": {},
   "outputs": [],
   "source": [
    "stock_df.drop(['Unnamed: 0'], axis=1, inplace=True)"
   ]
  },
  {
   "attachments": {},
   "cell_type": "markdown",
   "metadata": {},
   "source": [
    "<p dir=rtl style=\"direction: rtl; text-align: justify; line-height:200%; font-family:vazir; font-size:medium\">\n",
    "<font face=\"vazir\" size=3>\n",
    "با توجه به اینکه کد زدن با نام‌های فارسی بعضاً ایجاد مشکل می‌کند، در همین ابتدای کار نام ستون‌ها را به معادل انگلیسی آن‌ها تغییر دهید.\n",
    "</font>\n",
    "</p>\n",
    "\n",
    "<p dir=rtl style=\"direction: rtl; text-align: justify; line-height:200%; font-family:vazir; font-size:medium\">\n",
    "<font face=\"vazir\" size=3 color=\"red\">\n",
    "توجه:\n",
    "</font>\n",
    "<font face=\"vazir\" size=3>\n",
    "     حتما به صفت\n",
    "    (attribute) <code>inplace</code>\n",
    "    در این متد دقت کنید در غیر این‌صورت دیتافریم بازگشتی را در متغیری دیگر ذخیره کنید. (در صورتی‌که پس از اجرای سلول زیر بدون درخواست پرینت جدول خود را در خروجی مشاهده کنید به معنی این است که عملیات را ذخیره نکرده‌اید)\n",
    "</font>\n",
    "</p>"
   ]
  },
  {
   "cell_type": "code",
   "execution_count": 4,
   "metadata": {},
   "outputs": [],
   "source": [
    "column_names = {\n",
    "    \"تاریخ\":\"str_date\",\n",
    "    \"اولین قیمت\":\"Open\",\n",
    "    \"نماد\":\"Symbol\",\n",
    "    \"نام\":\"Name\",\n",
    "    \"قیمت پایانی\":\"Close\",\n",
    "    \"قیمت آخرین معامله\":\"Last Trade\",\n",
    "    \"تعداد معاملات\":\"Quantity\",\n",
    "    \"حجم\":\"Volume\",\n",
    "    \"ارزش\":\"Value\",\n",
    "    \"کمترین قیمت\":\"Min\",\n",
    "    \"بیشترین قیمت\":\"Max\",\n",
    "    \"قیمت دیروز\":\"Yesterday Price\",\n",
    "    \"تغییر\":\"Change\"\n",
    "}\n",
    "\n",
    "stock_df.rename(columns=column_names, inplace=True)"
   ]
  },
  {
   "attachments": {},
   "cell_type": "markdown",
   "metadata": {},
   "source": [
    "<h2 align=right style=\"line-height:200%;font-family:vazir;color:#0099cc\">\n",
    "<font face=\"vazir\" color=\"#0099cc\">\n",
    "تغییر نوع ستون تاریخ\n",
    "</font>\n",
    "</h2>\n",
    "\n",
    "<p dir=rtl style=\"direction: rtl; text-align: justify; line-height:200%; font-family:vazir; font-size:medium\">\n",
    "<font face=\"vazir\" size=3>\n",
    "اگر به نوع متغیرهای موجود در جدول نگاهی بی‌اندازید، مشاهده می‌کنید که نوع ستون <code>str_date</code> از نوع کلی <code>object</code> می‌باشد، در حالی‌که اگر این ستون از نوع <code>datetime</code> باشد انعطاف‌پذیری بسیار زیادی در کار با داده‌های زمانی این جدول به دست خواهد داد. برای تبدیل ستون <code>str_date</code> از رشته به <code>datetime</code> از تابع کمکی <code>to_datetime</code> استفاده کرده و نام ستون تبدیل‌یافته را <code>date</code> بگذارید. نوع این ستون را با نوع اولیه‌ی آن مقایسه کنید.\n",
    "</font>\n",
    "</p>\n",
    "\n",
    "<p dir=rtl style=\"direction: rtl; text-align: justify; line-height:200%; font-family:vazir; font-size:medium\">\n",
    "<font face=\"vazir\" size=3 color=\"orange\">\n",
    "نکته:\n",
    "</font>\n",
    "<font face=\"vazir\" size=3>\n",
    "   گاهی اوقات شاید لازم باشد فرمت رشته را برای تبدیل به نوع زمانی تغییر دهید ولی در این مثال نیازی به این کار نیست.\n",
    "</font>\n",
    "</p>"
   ]
  },
  {
   "cell_type": "code",
   "execution_count": 5,
   "metadata": {},
   "outputs": [],
   "source": [
    "stock_df[\"date\"]  =  pd.to_datetime(stock_df[\"str_date\"])"
   ]
  },
  {
   "cell_type": "code",
   "execution_count": 6,
   "metadata": {},
   "outputs": [
    {
     "name": "stdout",
     "output_type": "stream",
     "text": [
      "نوع متغیر پیش از تغییر: object \n",
      "\n",
      "نوع متغیر بعد از تغییر: datetime64[ns]\n"
     ]
    }
   ],
   "source": [
    "print(\"نوع متغیر پیش از تغییر:\", stock_df.dtypes[\"str_date\"],\"\\n\")\n",
    "print(\"نوع متغیر بعد از تغییر:\", stock_df.dtypes[\"date\"])"
   ]
  },
  {
   "cell_type": "code",
   "execution_count": 7,
   "metadata": {},
   "outputs": [
    {
     "data": {
      "text/plain": [
       "str_date                   object\n",
       "Open                      float64\n",
       "Symbol                     object\n",
       "Name                       object\n",
       "Close                     float64\n",
       "Last Trade                float64\n",
       "Quantity                    int64\n",
       "Volume                      int64\n",
       "Value                     float64\n",
       "Min                       float64\n",
       "Max                       float64\n",
       "Yesterday Price           float64\n",
       "Change                    float64\n",
       "date               datetime64[ns]\n",
       "dtype: object"
      ]
     },
     "execution_count": 7,
     "metadata": {},
     "output_type": "execute_result"
    }
   ],
   "source": [
    "stock_df.dtypes"
   ]
  },
  {
   "attachments": {},
   "cell_type": "markdown",
   "metadata": {},
   "source": [
    "<h2 dir=rtl align=right style=\"line-height:200%;font-family:vazir;color:#0099cc\">\n",
    "<font face=\"vazir\" color=\"#0099cc\">\n",
    "ستون تاریخ به عنوان <code>index</code>\n",
    "</font>\n",
    "</h2>\n",
    "\n",
    "<p dir=rtl style=\"direction: rtl; text-align: justify; line-height:200%; font-family:vazir; font-size:medium\">\n",
    "<font face=\"vazir\" size=3>\n",
    "حال که نوع ستون تاریخ به <code>datetime</code> تبدیل شده است،‌می‌توان مزایای تبدیل این ستون به <code>index</code> در یک دیتافریم را بررسی کرد. برای این کار از متد <code>set_index</code> استفاده کنید.\n",
    "</font>\n",
    "</p>\n",
    "\n",
    "<p dir=rtl style=\"direction: rtl; text-align: justify; line-height:200%; font-family:vazir; font-size:medium\">\n",
    "<font face=\"vazir\" size=3 color=\"red\">\n",
    "توجه:\n",
    "</font>\n",
    "<font face=\"vazir\" size=3>\n",
    "     حتما به صفت (attribute) <code>inplace</code> در این متد دقت کنید در غیر این‌صورت دیتافریم بازگشتی را در متغیری دیگر ذخیره کنید.\n",
    "</font>\n",
    "</p>"
   ]
  },
  {
   "cell_type": "code",
   "execution_count": 8,
   "metadata": {},
   "outputs": [],
   "source": [
    "stock_df.set_index(\"date\", inplace=True)"
   ]
  },
  {
   "attachments": {},
   "cell_type": "markdown",
   "metadata": {},
   "source": [
    "<p dir=rtl style=\"direction: rtl; text-align: justify; line-height:200%; font-family:vazir; font-size:medium\">\n",
    "<font face=\"vazir\" size=3>\n",
    "در ادامه ۱۰۰ داده‌ی اول جدول را در فایلی به نام <code>formatted.csv</code> ذخیره کنید.\n",
    "<br>\n",
    "سپس به‌‌صورت خیلی ساده بررسی می‌کنیم آیا تمامی تغییرات موردنظر به‌درستی انجام گرفته است یا خیر. درصورتی‌که در خروجی <code>assert</code>،‌ خطایی چاپ نشود یعنی پاسخ صحیح بوده و می‌توانید نت‌بوک را ادامه دهید.\n",
    "</font>\n",
    "</p>"
   ]
  },
  {
   "cell_type": "code",
   "execution_count": 9,
   "metadata": {},
   "outputs": [],
   "source": [
    "stock_df.head(100).to_csv(\"formatted.csv\")"
   ]
  },
  {
   "cell_type": "code",
   "execution_count": 10,
   "metadata": {},
   "outputs": [],
   "source": [
    "# basic assertion on dataframe reformation\n",
    "formatted_df = pd.read_csv(\"formatted.csv\", index_col=\"date\", parse_dates=[\"date\"])\n",
    "assert len(formatted_df.columns) == 13\n",
    "assert \"Volume\" in formatted_df.columns\n",
    "assert formatted_df.index.name == \"date\""
   ]
  },
  {
   "cell_type": "code",
   "execution_count": 11,
   "metadata": {},
   "outputs": [],
   "source": [
    "assert formatted_df.index.dtype != object"
   ]
  },
  {
   "attachments": {},
   "cell_type": "markdown",
   "metadata": {},
   "source": [
    "<p dir=rtl style=\"direction: rtl; text-align: justify; line-height:200%; font-family:vazir; font-size:medium\">\n",
    "<font face=\"vazir\" size=3>\n",
    "یکی از مهم‌ترین مزایای این کار این است که می‌توانید به‌راحتی اطلاعات جدول را در هر بازه‌ی زمانی فیلتر کنید.\n",
    "</font>\n",
    "</p>"
   ]
  },
  {
   "cell_type": "code",
   "execution_count": 12,
   "metadata": {},
   "outputs": [
    {
     "name": "stdout",
     "output_type": "stream",
     "text": [
      "date\n",
      "2020-03-30      401.0\n",
      "2020-03-30     3354.0\n",
      "2020-03-30      717.0\n",
      "2020-03-30      265.0\n",
      "2020-03-30      261.0\n",
      "               ...   \n",
      "2020-03-01   -50609.0\n",
      "2020-03-01   -74412.0\n",
      "2020-03-01   -10056.0\n",
      "2020-03-01   -10147.0\n",
      "2020-03-01   -20677.0\n",
      "Name: Change, Length: 6323, dtype: float64\n"
     ]
    },
    {
     "name": "stderr",
     "output_type": "stream",
     "text": [
      "C:\\Users\\Fazel\\AppData\\Local\\Temp\\ipykernel_17032\\1443128730.py:2: FutureWarning: Indexing a DataFrame with a datetimelike index using a single string to slice the rows, like `frame[string]`, is deprecated and will be removed in a future version. Use `frame.loc[string]` instead.\n",
      "  print(stock_df[\"2020-03\"][\"Change\"])\n"
     ]
    }
   ],
   "source": [
    "#فیلتر بر اساس سال و ماه\n",
    "print(stock_df[\"2020-03\"][\"Change\"])"
   ]
  },
  {
   "attachments": {},
   "cell_type": "markdown",
   "metadata": {},
   "source": [
    "<p dir=rtl style=\"direction: rtl; text-align: justify; line-height:200%; font-family:vazir; font-size:medium\">\n",
    "<font face=\"vazir\" size=3>\n",
    "می‌توانید در یک بازه‌ی زمانی،‌ اطلاعات آماری دلخواه را محاسبه کنید.\n",
    "</font>\n",
    "</p>"
   ]
  },
  {
   "cell_type": "code",
   "execution_count": 13,
   "metadata": {},
   "outputs": [
    {
     "data": {
      "text/plain": [
       "34961.48281245865"
      ]
     },
     "execution_count": 13,
     "metadata": {},
     "output_type": "execute_result"
    }
   ],
   "source": [
    "stock_df[\"2019-10-01\":\"2020-03-10\"].Close.mean()"
   ]
  },
  {
   "attachments": {},
   "cell_type": "markdown",
   "metadata": {},
   "source": [
    "<p dir=rtl style=\"direction: rtl; text-align: justify; line-height:200%; font-family:vazir; font-size:medium\">\n",
    "<font face=\"vazir\" size=3>\n",
    "می‌توانید به‌راحتی داده‌های خود را در هر بازه‌ی زمانی\n",
    "<a href=\"https://pandas.pydata.org/pandas-docs/stable/reference/api/pandas.DataFrame.resample.html\">نمونه‌گیری (resample)</a>\n",
    "کنید. یعنی که در دسته‌های دلخواه (ماهیانه،‌ سه‌ماهه، ...) مرتب کرده و روی آن‌ها تحلیل انجام دهید.\n",
    "<br>\n",
    "لیستی از حروفی که نمایان‌گر بازه‌های زمانی در جدول <code>pandas</code> هستند را می‌توانید از\n",
    "<a href=\"https://pandas.pydata.org/pandas-docs/stable/user_guide/timeseries.html#offset-aliases\">اینجا</a>\n",
    "مشاهده کنید.\n",
    "<br>\n",
    "    در مثال زیر داده‌ها که تقریباً با نرخ یک‌روزه گرفته شده بودند، به کمک متد <code>resample</code> با نرخ ماهیانه نمونه‌برداری شده‌اند، پس از اینکه داده‌ها در دسته‌های جدید (bins)\n",
    "    قرار گرفتند بایستی تصمیم بگیرید که با چه متدی داده‌های موجود در این دسته‌ها را یکی کنید، می‌توانید میانگین آن‌ها را محاسبه کنید یا جمع آن‌ها را محاسبه کنید. در اینجا میانگین داده‌ها محاسبه شده است.\n",
    "</font>\n",
    "</p>"
   ]
  },
  {
   "cell_type": "code",
   "execution_count": 74,
   "metadata": {},
   "outputs": [
    {
     "data": {
      "text/plain": [
       "date\n",
       "2019-06-30    18337.082140\n",
       "2019-07-31    20619.805267\n",
       "2019-08-31    22187.353722\n",
       "2019-09-30    29037.318703\n",
       "2019-10-31    28401.782315\n",
       "2019-11-30    29212.455675\n",
       "2019-12-31    33173.452610\n",
       "2020-01-31    35459.489550\n",
       "2020-02-29    42752.951393\n",
       "2020-03-31    46947.100111\n",
       "2020-04-30    47487.956483\n",
       "Freq: M, Name: Close, dtype: float64"
      ]
     },
     "execution_count": 74,
     "metadata": {},
     "output_type": "execute_result"
    }
   ],
   "source": [
    "#بر اساس سال\n",
    "stock_df['Close'].resample('M').mean()"
   ]
  },
  {
   "attachments": {},
   "cell_type": "markdown",
   "metadata": {},
   "source": [
    "<p dir=rtl style=\"direction: rtl; text-align: justify; line-height:200%; font-family:vazir; font-size:medium\">\n",
    "<font face=\"vazir\" size=3>\n",
    "کتابخانه‌ی <code>pandas</code> متدهای کمکی‌ای برای استفاده از کتابخانه‌ی <code>matplotlib</code> در ترسیم دیتافریم‌ها دارد که می‌توان به کمک آن‌ها به‌راحتی نمودارهای ساده‌ای را ترسیم کرد.\n",
    "</font>\n",
    "</p>"
   ]
  },
  {
   "cell_type": "code",
   "execution_count": 75,
   "metadata": {},
   "outputs": [
    {
     "data": {
      "text/plain": [
       "<AxesSubplot: xlabel='date'>"
      ]
     },
     "execution_count": 75,
     "metadata": {},
     "output_type": "execute_result"
    },
    {
     "data": {
      "image/png": "[encoded data removed]",
      "text/plain": [
       "<Figure size 640x480 with 1 Axes>"
      ]
     },
     "metadata": {},
     "output_type": "display_data"
    }
   ],
   "source": [
    "stock_df['Close'].resample('M').mean().plot(kind='bar')"
   ]
  },
  {
   "attachments": {},
   "cell_type": "markdown",
   "metadata": {},
   "source": [
    "<p dir=rtl style=\"direction: rtl; text-align: justify; line-height:200%; font-family:vazir; font-size:medium\">\n",
    "<font face=\"vazir\" size=3>\n",
    "در این تمرین از شما می‌خواهیم ابتدا داده‌های ستون <code>Min</code> و <code>Max</code> را با نرخ ۱۰ روزه نمونه‌برداری کنید. سپس معاملاتی که در بازه‌های چهار ماهه‌ی آخر سال ۲۰۱۹ (یعنی از ۹-۲۰۱۹ تا ۱۲-۲۰۱۹) و سه ماهه‌ی اول سال ۲۰۲۰ (یعنی از ۱-۲۰۲۰ تا ۳-۲۰۲۰) هستند را فیلتر (استخراج) کنید و آن‌هایی که میانگین <code>Max</code> کمتر از ۳۵۰۰۰ و <code>Min</code> بیشتر از ۲۰۰۰۰ دارند را پیدا کنید.\n",
    "</font>\n",
    "</p>"
   ]
  },
  {
   "cell_type": "code",
   "execution_count": 76,
   "metadata": {},
   "outputs": [
    {
     "name": "stderr",
     "output_type": "stream",
     "text": [
      "C:\\Users\\Fazel\\AppData\\Local\\Temp\\ipykernel_17032\\1244012799.py:9: SettingWithCopyWarning: \n",
      "A value is trying to be set on a copy of a slice from a DataFrame\n",
      "\n",
      "See the caveats in the documentation: https://pandas.pydata.org/pandas-docs/stable/user_guide/indexing.html#returning-a-view-versus-a-copy\n",
      "  result.drop(\"test\", axis=1, inplace=True)\n"
     ]
    }
   ],
   "source": [
    "temp = stock_df[['Min', 'Max']].resample('10D').mean()\n",
    "\n",
    "result = (temp['Max'][\"2019-09\":\"2020-03\"] < 35000) & (temp['Min'][\"2019-09\":\"2020-03\"] > 20000)\n",
    "\n",
    "temp['test']=pd.DataFrame(result)\n",
    "\n",
    "result = temp[temp['test'] == True]\n",
    "\n",
    "result.drop(\"test\", axis=1, inplace=True)"
   ]
  },
  {
   "cell_type": "code",
   "execution_count": 77,
   "metadata": {},
   "outputs": [
    {
     "data": {
      "text/html": [
       "<div>\n",
       "<style scoped>\n",
       "    .dataframe tbody tr th:only-of-type {\n",
       "        vertical-align: middle;\n",
       "    }\n",
       "\n",
       "    .dataframe tbody tr th {\n",
       "        vertical-align: top;\n",
       "    }\n",
       "\n",
       "    .dataframe thead th {\n",
       "        text-align: right;\n",
       "    }\n",
       "</style>\n",
       "<table border=\"1\" class=\"dataframe\">\n",
       "  <thead>\n",
       "    <tr style=\"text-align: right;\">\n",
       "      <th></th>\n",
       "      <th>Min</th>\n",
       "      <th>Max</th>\n",
       "    </tr>\n",
       "    <tr>\n",
       "      <th>date</th>\n",
       "      <th></th>\n",
       "      <th></th>\n",
       "    </tr>\n",
       "  </thead>\n",
       "  <tbody>\n",
       "    <tr>\n",
       "      <th>2019-09-03</th>\n",
       "      <td>25513.802849</td>\n",
       "      <td>26337.174929</td>\n",
       "    </tr>\n",
       "    <tr>\n",
       "      <th>2019-09-13</th>\n",
       "      <td>28584.095449</td>\n",
       "      <td>29501.005236</td>\n",
       "    </tr>\n",
       "    <tr>\n",
       "      <th>2019-09-23</th>\n",
       "      <td>32993.918843</td>\n",
       "      <td>34038.522230</td>\n",
       "    </tr>\n",
       "    <tr>\n",
       "      <th>2019-10-03</th>\n",
       "      <td>29968.944497</td>\n",
       "      <td>30905.997154</td>\n",
       "    </tr>\n",
       "    <tr>\n",
       "      <th>2019-10-13</th>\n",
       "      <td>27654.362034</td>\n",
       "      <td>28598.031980</td>\n",
       "    </tr>\n",
       "    <tr>\n",
       "      <th>2019-10-23</th>\n",
       "      <td>24520.583274</td>\n",
       "      <td>25217.486180</td>\n",
       "    </tr>\n",
       "    <tr>\n",
       "      <th>2019-11-02</th>\n",
       "      <td>27563.924605</td>\n",
       "      <td>28337.823267</td>\n",
       "    </tr>\n",
       "    <tr>\n",
       "      <th>2019-11-12</th>\n",
       "      <td>28335.407980</td>\n",
       "      <td>29170.981678</td>\n",
       "    </tr>\n",
       "    <tr>\n",
       "      <th>2019-11-22</th>\n",
       "      <td>31614.932427</td>\n",
       "      <td>32420.005768</td>\n",
       "    </tr>\n",
       "    <tr>\n",
       "      <th>2019-12-12</th>\n",
       "      <td>31695.632536</td>\n",
       "      <td>32581.703349</td>\n",
       "    </tr>\n",
       "    <tr>\n",
       "      <th>2019-12-22</th>\n",
       "      <td>30834.123066</td>\n",
       "      <td>31768.486506</td>\n",
       "    </tr>\n",
       "    <tr>\n",
       "      <th>2020-01-01</th>\n",
       "      <td>34165.933978</td>\n",
       "      <td>34934.645987</td>\n",
       "    </tr>\n",
       "  </tbody>\n",
       "</table>\n",
       "</div>"
      ],
      "text/plain": [
       "                     Min           Max\n",
       "date                                  \n",
       "2019-09-03  25513.802849  26337.174929\n",
       "2019-09-13  28584.095449  29501.005236\n",
       "2019-09-23  32993.918843  34038.522230\n",
       "2019-10-03  29968.944497  30905.997154\n",
       "2019-10-13  27654.362034  28598.031980\n",
       "2019-10-23  24520.583274  25217.486180\n",
       "2019-11-02  27563.924605  28337.823267\n",
       "2019-11-12  28335.407980  29170.981678\n",
       "2019-11-22  31614.932427  32420.005768\n",
       "2019-12-12  31695.632536  32581.703349\n",
       "2019-12-22  30834.123066  31768.486506\n",
       "2020-01-01  34165.933978  34934.645987"
      ]
     },
     "execution_count": 77,
     "metadata": {},
     "output_type": "execute_result"
    }
   ],
   "source": [
    "result"
   ]
  },
  {
   "cell_type": "code",
   "execution_count": 78,
   "metadata": {},
   "outputs": [],
   "source": [
    "np.savez(\"answers.npz\", index=result.index, values=result.values)"
   ]
  },
  {
   "attachments": {},
   "cell_type": "markdown",
   "metadata": {},
   "source": [
    "<p dir=rtl style=\"direction: rtl; text-align: justify; line-height:200%; font-family:vazir; font-size:medium\">\n",
    "<font face=\"vazir\" size=3>\n",
    "در انتها یک تست بسیار ساده از جواب نهایی که باید بفرستید انجام دهید.\n",
    "</font>\n",
    "</p>"
   ]
  },
  {
   "cell_type": "code",
   "execution_count": 79,
   "metadata": {},
   "outputs": [],
   "source": [
    "res = np.load(\"answers.npz\")\n",
    "assert res[\"values\"].shape == (12,2)\n",
    "assert str(res[\"index\"][0]) == '2019-09-03T00:00:00.000000000'"
   ]
  },
  {
   "attachments": {},
   "cell_type": "markdown",
   "metadata": {},
   "source": [
    "<h2 align=right style=\"line-height:200%;font-family:vazir;color:#0099cc\">\n",
    "<font face=\"vazir\" color=\"#0099cc\">\n",
    "<b>سلول جواب‌ساز</b>\n",
    "</font>\n",
    "</h2>\n",
    "\n",
    "<p dir=rtl style=\"direction: rtl; text-align: justify; line-height:200%; font-family:vazir; font-size:medium\">\n",
    "<font face=\"vazir\" size=3>\n",
    "    پس از ساخت دو فایل <code>answers.npz</code> و <code>formatted.csv</code> برای ساخته‌شدن فایل <code>result.zip</code> سلول زیر را اجرا کنید. توجه داشته باشید که پیش از اجرای سلول زیر تغییرات اعمال شده در نت‌بوک را ذخیره کرده باشید (<code>ctrl+s</code>) تا در صورت نیاز به راهنمایی امکان بررسی کد شما وجود داشته باشد.\n",
    "</font>\n",
    "</p>"
   ]
  },
  {
   "cell_type": "code",
   "execution_count": 80,
   "metadata": {},
   "outputs": [
    {
     "name": "stdout",
     "output_type": "stream",
     "text": [
      "File Paths:\n",
      "['answers.npz', 'formatted.csv', 'iran_stock.ipynb']\n"
     ]
    }
   ],
   "source": [
    "import zlib\n",
    "import zipfile\n",
    "\n",
    "\n",
    "def compress(file_names):\n",
    "    print(\"File Paths:\")\n",
    "    print(file_names)\n",
    "    compression = zipfile.ZIP_DEFLATED\n",
    "    with zipfile.ZipFile(\"result.zip\", mode=\"w\") as zf:\n",
    "        for file_name in file_names:\n",
    "            zf.write('./' + file_name, file_name, compress_type=compression)\n",
    "\n",
    "\n",
    "file_names = [\"answers.npz\", \"formatted.csv\", \"iran_stock.ipynb\"]\n",
    "compress(file_names)"
   ]
  }
 ],
 "metadata": {
  "kernelspec": {
   "display_name": "Python 3",
   "language": "python",
   "name": "python3"
  },
  "language_info": {
   "codemirror_mode": {
    "name": "ipython",
    "version": 3
   },
   "file_extension": ".py",
   "mimetype": "text/x-python",
   "name": "python",
   "nbconvert_exporter": "python",
   "pygments_lexer": "ipython3",
   "version": "3.10.9"
  },
  "vscode": {
   "interpreter": {
    "hash": "e897f0676b185ac58fdef5d15caf12b36f55050acef5c3897f1ea1504ac8e199"
   }
  }
 },
 "nbformat": 4,
 "nbformat_minor": 4
}
