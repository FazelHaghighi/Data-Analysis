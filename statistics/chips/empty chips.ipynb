{
 "cells": [
  {
   "cell_type": "markdown",
   "metadata": {},
   "source": [
    "<div style=\"direction:rtl;line-height:300%;\">\n",
    "\t<font face=\"XB Zar\" size=5>\n",
    "\t\t<div align=center>\n",
    "\t\t</div>\n",
    "\t\t<hr/>\n",
    "\t\t<font color=#0f6d02 size=6>\n",
    "\t\t\t<br />\n",
    "\t\t\t<div align=center>\n",
    "چیپس‌های خالی!!            </div>\n",
    "\t\t</font>\n",
    "\t\t<br />\n",
    "\t\t<hr />\n",
    "\t\t<style type=\"text/css\" scoped>\n",
    "        p{\n",
    "        border: 1px solid #a2a9b1;background-color: #f8f9fa;display: inline-block;\n",
    "        };\n",
    "        </style>\n",
    "\t</font>\n",
    "</div>"
   ]
  },
  {
   "cell_type": "markdown",
   "metadata": {},
   "source": [
    "<p></p>\n",
    "<br />\n",
    "<div id=\"sec_t_test\" style=\"direction:rtl;line-height:300%;\">\n",
    "\t<font face=\"XB Zar\" size=5>\n",
    "\t\t<font color=#FF7500 size=6>\n",
    "p-value\n",
    "        </font>\n",
    "\t\t<hr>\n",
    "        <br>\n",
    "        <br>\n",
    "        \tیک <u><i>جامعه‌ی آماری </i></u> را در نظر بگیرید. مثلا مجموعه‌ی دانشجویانی که داروی خاصی را مصرف کرده‌اند، مجموعه‌ی مدت زمان‌هایی که طول کشیده تا یک پیتزافروشی پیتزا‌ها را به مشتریانش تحویل بدهد، مجموعه‌ی نتایح حاصل از پرتاب یک سکه و … . <br>\n",
    "            \tحال <i><u>ادعایی</u></i> در رابطه با این جوامع آماری را در نظر بگیرید. مثلا اینکه دارو موجب افزایش میانگین خواب دانشجویان شده، میانگین زمان تحویل پیتزا حداکثر ۳۰ دقیقه است، سکه‌ی پرتاب شده سکه‌ای عادی نیست و … . \n",
    "                <br>\n",
    "                \tبرای آزمایش اینکه ادعای مطرح شده در رابطه با جامعه‌ی آماری موردنظر درست است یا نه از <i><u>آزمون فرض</u></i> استفاده می‌شود. بدین منظور، دو فرض مطرح می‌شود: ۱. فرض صفر ($null~hypothesis$) ۲. فرض دیگر ($alternate~ hypothesis$)         \n",
    "                    <br>\n",
    "                    \tدر انتخاب فرایض، دقت کنید که فرض صفر معمولا این است که اتفاقی خارج از معمول رخ نداده است. مثلا دارو در خواب دانشجویان تاثیری نگذاشته، میانگین تحویل پیتزا بیشتر از ۳۰ دقیقه است، سکه‌ی پرتاب شده سکه‌ای عادی است و … . فرض یک معمولا ادعایی است که میخواهیم درستی آن را اثبات کنیم. یعنی تفاوت <b>معنی‌داری</b> - که تنها بر پایه‌ی شانس نباشد - وجود دارد.\n",
    "<br>\n",
    "<u><i>درجه‌ی اهمیت</i></u> آزمون فرض یا $\\alpha$ مقدار دلخواهی است که از قبل خودمان مشخص کرده‌ایم. این مقدار، احتمال خطای نوع اول است. قدرت آزمون فرض یا $\\beta$ برابر با ۱ منهای احتمال خطای نوع دوم است. \n",
    "\t</font>\n",
    "</div>\n",
    "\n"
   ]
  },
  {
   "cell_type": "markdown",
   "metadata": {},
   "source": [
    "<p></p>\n",
    "<br />\n",
    "<div id=\"here\" style=\"direction:rtl;line-height:300%;\">\n",
    "\t<font face=\"XB Zar\" size=5>\n",
    "\tحال میرسیم به معنای $p-value$. $p-value$ برابر با احتمال این است که در صورتی که فرض صفر درست باشد، نتایجی حداقل به شدت داده‌ی مورد آزمایش مشاهده کنیم. عبارت “ حداقل به شدت “ بستگی به آزمون فرض دارد.\n",
    "</font>\n",
    "</div>"
   ]
  },
  {
   "cell_type": "markdown",
   "metadata": {},
   "source": [
    "<p></p>\n",
    "<br />\n",
    "<div id=\"sec_t_test\" style=\"direction:rtl;line-height:300%;\">\n",
    "\t<font face=\"XB Zar\" size=5>\n",
    "\t\t<font color=#FF7500 size=6>\n",
    "آزمون تی\n",
    "        </font>\n",
    "\t\t<p></p>\n",
    "\t\t<hr>\n",
    "    تی تست یک آزمون فرضی برای نمونه‌های آماری با تعداد کم است. این آزمون توسط ویلیام گوست (William Gosset) پیشنهاد شد. او آن را تحت نام “دانشجو” ثبت کرد، به همین دلیل به آن آزمونِ تیِ دانشجو نیز می‌گویند.\n",
    "    <br /> <br>\n",
    "        \tتی تست انواع مختلفی دارد، ولی به صورت کلی <i>فرض صفر</i> آن این است که هر اختلاف مشاهده شده‌ای، تصادفی و به علت شانس رخ داده‌است در‌حالی‌که فرض دیگر کاملا مخالف این است. \n",
    "    <br /> <br>\n",
    "</font>\n",
    "</div>"
   ]
  },
  {
   "cell_type": "markdown",
   "metadata": {},
   "source": [
    "<p></p>\n",
    "<br />\n",
    "<div id=\"sec_t_test\" style=\"direction:rtl;line-height:300%;\">\n",
    "\t<font face=\"XB Zar\" size=5>\n",
    "\t\t<font color=#FF7500 size=6>\n",
    "        </font>\n",
    "\t\t<p></p>\n",
    "\t\t<hr>\n",
    "        تست تی یک ترم آماریست که اجازه می دهد دو جامعه‌ی آماری و میانگین آنها را مقایسه کنیم. این تست برای مشاهده‌ی وجود تفاوت عمده بین توزیع داده ها به کار می‌رود.\n",
    "        برای این کار فرض صفری در نظر میگیریم تا این تفاوت را مورد تست قرار دهیم. علاوه بر این داده ها برای مورد تست قرار گرفتن می‌بایستی از توزیع نرمال \n",
    "        یا مشابه آن پیروی کنند. بعد از در نظر گرفتن فرض صفر که برای مثال، یکسان بودن میانگین دو توزیع در نظر می گیریم، این تست با توجه به\n",
    "        T-statistics\n",
    "        و\n",
    "        T-distribution\n",
    "        یک مقدار پی\n",
    "        (p-value)\n",
    "        برای آزمون تعیین می کند که فرض صفر را با آن رد می‌کنیم یا مورد تایید قرار می دهیم.\n",
    "        <br>\n",
    "        آزمون تی یکی از آزمون های آماری است که برای تست کردن فرض به کار می رود.\n",
    "        از آزمون های دیگر در این راستا می توان به آزمون های\n",
    "        Analysis of Variance test, Z-test, Chi-Square test \n",
    "        و F-test اشاره کرد.\n",
    "        برای مثال آزمون تی برای دسته هایی از داده های کوچک مناسب است در حالی که برای تست کردن داده های حجیم تر از \n",
    "        Z-test \n",
    "        استفاده می شود.\n",
    "    <br /> <br>\n",
    "</font>\n",
    "</div>"
   ]
  },
  {
   "cell_type": "markdown",
   "metadata": {},
   "source": [
    "<p></p>\n",
    "<div id=\"sec_jam_again\" style=\"direction:rtl;line-height:300%;\">\n",
    "\t<font face=\"XB Zar\" size=5>\n",
    "    در ادامه به نحوه پیاده‌سازی آزمون T در پایتون خواهیم پرداخت \n",
    "        <br><br>\n",
    "        حال می‌توانیم آزمون تی را در پایتون انجام دهیم.\n",
    "        در پکیج scipy.stats برای اجرای انواع مختلف آزمون تی تابع‌هایی تعبیه شده‌است. برای اجرای آزمون تی تک‌نمونه‌ای کافی است داده و میانگین فرض صفر به تابع پاس داده شود. توجه کنید که به صورت پیش‌فرض آزمون به صورت دوطرفه انجام می‌شود. به همین دلیل برای به دست‌آوردن p-value یک‌طرفه، نیاز است تا مقدار به دست‌آمده را بر دو تقسیم کنیم. پس برای مسئله‌ی پیتزافروشی خواهیم داشت:\n",
    "        </font>\n",
    "</div>"
   ]
  },
  {
   "cell_type": "code",
   "execution_count": 1,
   "metadata": {},
   "outputs": [
    {
     "name": "stdout",
     "output_type": "stream",
     "text": [
      "t-statistic is: 8.794423449754442\n",
      "p-value is: 5.591878528110223e-10\n"
     ]
    }
   ],
   "source": [
    "from scipy.stats import ttest_1samp\n",
    "data=[38,56.2,40.2,45.5,43.7,41.5,30.3,46.3,35.1,49.3,35.4,40.1,40.5,35.8,42,31.1,39.8,41.6,41.6,32.8,50.1,26.8,40.9,44.7,39.3,36.5,33.9,36.1,44.7,39.9]\n",
    "ttest_res = ttest_1samp(data,30)\n",
    "print(\"t-statistic is: \"+str(ttest_res[0]))\n",
    "print(\"p-value is: \"+str(ttest_res[1]/2)) # Division by two is needed because our test is one-way"
   ]
  },
  {
   "cell_type": "markdown",
   "metadata": {},
   "source": [
    "<br>\n",
    "<div id=\"sec_intro\" style=\"direction:rtl;line-height:300%;\">\n",
    "\t<font face=\"XB Zar\" size=4>\n",
    "در سرزمین‌های دور پس از دوره‌ای گرانی، یک شرکت تولیدکننده‌ی تنقلات تصمیم گرفت تا به کم فروشی بپردازد و میزان چپیس کمتری را در بسته‌های چیپس ۳۰۰ گرمی خود فرار دهد. فردی بیکار و البته بادغدغه در این بین، پس از مدتی مشاهده، به میزان وزن چپیس‌ها مشکوک شد.\n",
    "<br>\n",
    "    این فرد پس از مدتی تصمیم گرفت تا تعدادی چیپس را بخرد و وزن آن‌ها را اندازه گیری کند. این فرد اندازه‌ی این بسته‌چپیس ها را در لیست زیر ریخته است:\n",
    "        \n",
    "</div>"
   ]
  },
  {
   "cell_type": "code",
   "execution_count": 56,
   "metadata": {},
   "outputs": [],
   "source": [
    "weights = [212, 198, 190, 203, 542, 356, 253, 297, 168, 256, 245, 262, 301, 246, 199, 129,\n",
    "          199, 291, 256, 242, 259, 275, 219, 395, 310, 199, 201, 200, 295, 209, 175, 132,\n",
    "          392, 180, 201, 206, 199, 206, 265, 216, 302, 167, 102, 199, 300, 199, 176, 286,\n",
    "          334, 177, 196, 178, 198, 277, 167, 257, 286, 200, 98, 201]"
   ]
  },
  {
   "cell_type": "markdown",
   "metadata": {},
   "source": [
    "<br>\n",
    "<div id=\"sec_whatisR\" style=\"direction:rtl;line-height:300%;\">\n",
    "<font face=\"XB Zar\" size=4>\n",
    "        <font color=#000000 size=4>\n",
    "این فرد بیکار تصمیم‌ می‌گیرد به ازای هر یک از مقادیر پیش‌بینی شده توسط خودش، برای وزن چیپس‌ها مقدار \n",
    "p-value\n",
    "را حساب کند.\n",
    "    </font>\n",
    "        \n",
    "</div>"
   ]
  },
  {
   "cell_type": "code",
   "execution_count": 57,
   "metadata": {},
   "outputs": [],
   "source": [
    "mass_list = [175,200,225,250,275,300,325]"
   ]
  },
  {
   "cell_type": "code",
   "execution_count": 59,
   "metadata": {},
   "outputs": [
    {
     "name": "stdout",
     "output_type": "stream",
     "text": [
      "t-statistic is: 6.233086143333865\n",
      "p-value is: 2.6448859606548715e-08 for: 175\n",
      "t-statistic is: 3.6207281620539553\n",
      "p-value is: 0.00030582658584758364 for: 200\n",
      "t-statistic is: 1.0083701807740457\n",
      "p-value is: 0.15869724847991187 for: 225\n",
      "t-statistic is: -1.6039878005058639\n",
      "p-value is: 0.05702853864570364 for: 250\n",
      "t-statistic is: -4.2163457817857735\n",
      "p-value is: 4.324410944750175e-05 for: 275\n",
      "t-statistic is: -6.828703763065683\n",
      "p-value is: 2.6355408422786102e-09 for: 300\n",
      "t-statistic is: -9.441061744345593\n",
      "p-value is: 1.059752097678249e-13 for: 325\n",
      "[0.15869724847991187, 0.05702853864570364, 0.00030582658584758364, 4.324410944750175e-05, 2.6448859606548715e-08, 2.6355408422786102e-09, 1.059752097678249e-13]\n"
     ]
    }
   ],
   "source": [
    "from scipy.stats import ttest_1samp\n",
    "\n",
    "test = []\n",
    "\n",
    "for mass in mass_list:\n",
    "    ttest_res = ttest_1samp(weights, mass)\n",
    "    print(\"t-statistic is: \"+str(ttest_res[0]))\n",
    "    print(\"p-value is: \"+str(ttest_res[1]/2)+ \" for: \"+ str(mass))\n",
    "    test.append(ttest_res[1]/2)\n",
    "\n",
    "test.sort(reverse=True)\n",
    "print(test)\n"
   ]
  },
  {
   "cell_type": "markdown",
   "metadata": {},
   "source": [
    "<br>\n",
    "<div id=\"sec_whatisR\" style=\"direction:rtl;line-height:300%;\">\n",
    "<font face=\"XB Zar\" size=4>\n",
    "        <font color=#000000 size=4>\n",
    "شما بایستی به ازای هر یک از مقادیر پیشنهادی در لیست \n",
    "mass_list\n",
    "مقدار \n",
    "p_value را\n",
    "حساب کرده و به ترتیب در لیست \n",
    "pvs\n",
    "وارد کنید.  \n",
    "سپس محتمل‌ترین وزن‌ها برای بسته‌های چیپس را به ترتیب میزان محتمل بودن در لیست\n",
    "most_possible\n",
    "وارد کنید.\n",
    "   \n",
    "        \n",
    "</div>"
   ]
  },
  {
   "cell_type": "code",
   "execution_count": 60,
   "metadata": {},
   "outputs": [],
   "source": [
    "pvs = [2.6448859606548715e-08, 0.00030582658584758364, 0.15869724847991187,0.05702853864570364, 4.324410944750175e-05, 2.6355408422786102e-09, 1.059752097678249e-13]\n",
    "most_possible = [225, 250, 200, 275, 175, 300, 325]"
   ]
  },
  {
   "cell_type": "markdown",
   "metadata": {},
   "source": [
    "<br>\n",
    "<div id=\"sec_whatisR\" style=\"direction:rtl;line-height:300%;\">\n",
    "<font face=\"XB Zar\" size=4>\n",
    "        <font color=#000000 size=4>\n",
    "با اجرای دستور زیر، آرایه‌ها را ذخیره کنید تا پاسخ‌های‌تان ارزیابی شود.\n",
    "</font>\n",
    "        \n",
    "</div>"
   ]
  },
  {
   "cell_type": "code",
   "execution_count": 61,
   "metadata": {},
   "outputs": [],
   "source": [
    "import numpy as np\n",
    "sample_params = [pvs,most_possible]\n",
    "np.savez(\"answers.npz\",sample_params = sample_params)"
   ]
  },
  {
   "cell_type": "code",
   "execution_count": 62,
   "metadata": {},
   "outputs": [
    {
     "name": "stdout",
     "output_type": "stream",
     "text": [
      "File Paths:\n",
      "['answers.npz', 'empty chips.ipynb']\n"
     ]
    }
   ],
   "source": [
    "import zlib\n",
    "import zipfile\n",
    "\n",
    "\n",
    "def compress(file_names):\n",
    "    print(\"File Paths:\")\n",
    "    print(file_names)\n",
    "    # Select the compression mode ZIP_DEFLATED for compression\n",
    "    # or zipfile.ZIP_STORED to just store the file\n",
    "    compression = zipfile.ZIP_DEFLATED\n",
    "    # create the zip file first parameter path/name, second mode\n",
    "    with zipfile.ZipFile(\"result.zip\", mode=\"w\") as zf:\n",
    "        for file_name in file_names:\n",
    "            # Add file to the zip file\n",
    "            # first parameter file to zip, second filename in zip\n",
    "            zf.write('./' + file_name, file_name, compress_type=compression)\n",
    "\n",
    "\n",
    "file_names = [\"answers.npz\", \"empty chips.ipynb\"]\n",
    "compress(file_names)\n"
   ]
  }
 ],
 "metadata": {
  "kernelspec": {
   "display_name": "Python 3.10.9 64-bit",
   "language": "python",
   "name": "python3"
  },
  "language_info": {
   "codemirror_mode": {
    "name": "ipython",
    "version": 3
   },
   "file_extension": ".py",
   "mimetype": "text/x-python",
   "name": "python",
   "nbconvert_exporter": "python",
   "pygments_lexer": "ipython3",
   "version": "3.10.9 (tags/v3.10.9:1dd9be6, Dec  6 2022, 20:01:21) [MSC v.1934 64 bit (AMD64)]"
  },
  "latex_envs": {
   "LaTeX_envs_menu_present": true,
   "autoclose": false,
   "autocomplete": true,
   "bibliofile": "biblio.bib",
   "cite_by": "apalike",
   "current_citInitial": 1,
   "eqLabelWithNumbers": true,
   "eqNumInitial": 1,
   "hotkeys": {
    "equation": "Ctrl-E",
    "itemize": "Ctrl-I"
   },
   "labels_anchors": false,
   "latex_user_defs": false,
   "report_style_numbering": false,
   "user_envs_cfg": false
  },
  "toc": {
   "base_numbering": 1,
   "nav_menu": {},
   "number_sections": true,
   "sideBar": true,
   "skip_h1_title": false,
   "title_cell": "Table of Contents",
   "title_sidebar": "Contents",
   "toc_cell": false,
   "toc_position": {},
   "toc_section_display": true,
   "toc_window_display": false
  },
  "varInspector": {
   "cols": {
    "lenName": 16,
    "lenType": 16,
    "lenVar": 40
   },
   "kernels_config": {
    "python": {
     "delete_cmd_postfix": "",
     "delete_cmd_prefix": "del ",
     "library": "var_list.py",
     "varRefreshCmd": "print(var_dic_list())"
    },
    "r": {
     "delete_cmd_postfix": ") ",
     "delete_cmd_prefix": "rm(",
     "library": "var_list.r",
     "varRefreshCmd": "cat(var_dic_list()) "
    }
   },
   "types_to_exclude": [
    "module",
    "function",
    "builtin_function_or_method",
    "instance",
    "_Feature"
   ],
   "window_display": false
  },
  "vscode": {
   "interpreter": {
    "hash": "e897f0676b185ac58fdef5d15caf12b36f55050acef5c3897f1ea1504ac8e199"
   }
  }
 },
 "nbformat": 4,
 "nbformat_minor": 4
}
